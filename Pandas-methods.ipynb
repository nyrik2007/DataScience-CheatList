{
 "cells": [
  {
   "cell_type": "code",
   "execution_count": 4,
   "metadata": {},
   "outputs": [],
   "source": [
    "import pandas as pd\n",
    "import numpy as np"
   ]
  },
  {
   "cell_type": "markdown",
   "metadata": {},
   "source": [
    "# Введение"
   ]
  },
  {
   "cell_type": "code",
   "execution_count": 5,
   "metadata": {},
   "outputs": [
    {
     "data": {
      "text/plain": [
       "first     1\n",
       "second    2\n",
       "third     3\n",
       "fourth    4\n",
       "dtype: int64"
      ]
     },
     "execution_count": 5,
     "metadata": {},
     "output_type": "execute_result"
    }
   ],
   "source": [
    "s=pd.Series([1,2,3,4], index=[\"first\",\"second\",\"third\",\"fourth\"])\n",
    "s"
   ]
  },
  {
   "cell_type": "code",
   "execution_count": 6,
   "metadata": {},
   "outputs": [],
   "source": [
    "d={\"Moscow\":1000,\"London\":300,\"New York\":150,\"Barselona\":None}\n",
    "cities=pd.Series(d)"
   ]
  },
  {
   "cell_type": "code",
   "execution_count": 7,
   "metadata": {},
   "outputs": [
    {
     "data": {
      "text/plain": [
       "Moscow       1000.0\n",
       "London        300.0\n",
       "New York      150.0\n",
       "Barselona       NaN\n",
       "dtype: float64"
      ]
     },
     "execution_count": 7,
     "metadata": {},
     "output_type": "execute_result"
    }
   ],
   "source": [
    "cities"
   ]
  },
  {
   "cell_type": "code",
   "execution_count": 8,
   "metadata": {},
   "outputs": [
    {
     "data": {
      "text/plain": [
       "1000.0"
      ]
     },
     "execution_count": 8,
     "metadata": {},
     "output_type": "execute_result"
    }
   ],
   "source": [
    "cities[\"Moscow\"]"
   ]
  },
  {
   "cell_type": "code",
   "execution_count": 9,
   "metadata": {},
   "outputs": [
    {
     "data": {
      "text/plain": [
       "Moscow       1000.0\n",
       "Barselona       NaN\n",
       "dtype: float64"
      ]
     },
     "execution_count": 9,
     "metadata": {},
     "output_type": "execute_result"
    }
   ],
   "source": [
    "cities[[\"Moscow\",\"Barselona\"]]"
   ]
  },
  {
   "cell_type": "code",
   "execution_count": 10,
   "metadata": {},
   "outputs": [
    {
     "data": {
      "text/plain": [
       "Moscow       False\n",
       "London        True\n",
       "New York      True\n",
       "Barselona    False\n",
       "dtype: bool"
      ]
     },
     "execution_count": 10,
     "metadata": {},
     "output_type": "execute_result"
    }
   ],
   "source": [
    "cities<1000"
   ]
  },
  {
   "cell_type": "code",
   "execution_count": 11,
   "metadata": {},
   "outputs": [
    {
     "data": {
      "text/plain": [
       "London      300.0\n",
       "New York    150.0\n",
       "dtype: float64"
      ]
     },
     "execution_count": 11,
     "metadata": {},
     "output_type": "execute_result"
    }
   ],
   "source": [
    "cities[cities<1000]"
   ]
  },
  {
   "cell_type": "code",
   "execution_count": 12,
   "metadata": {},
   "outputs": [
    {
     "data": {
      "text/plain": [
       "Moscow        50.0\n",
       "London       300.0\n",
       "New York     150.0\n",
       "Barselona      NaN\n",
       "dtype: float64"
      ]
     },
     "execution_count": 12,
     "metadata": {},
     "output_type": "execute_result"
    }
   ],
   "source": [
    "cities[\"Moscow\"]=50\n",
    "cities"
   ]
  },
  {
   "cell_type": "code",
   "execution_count": 13,
   "metadata": {},
   "outputs": [
    {
     "data": {
      "text/plain": [
       "Moscow       3.0\n",
       "London       3.0\n",
       "New York     3.0\n",
       "Barselona    NaN\n",
       "dtype: float64"
      ]
     },
     "execution_count": 13,
     "metadata": {},
     "output_type": "execute_result"
    }
   ],
   "source": [
    "cities[cities<1000]=3\n",
    "cities"
   ]
  },
  {
   "cell_type": "code",
   "execution_count": 14,
   "metadata": {},
   "outputs": [
    {
     "data": {
      "text/plain": [
       "Moscow       9.0\n",
       "London       9.0\n",
       "New York     9.0\n",
       "Barselona    NaN\n",
       "dtype: float64"
      ]
     },
     "execution_count": 14,
     "metadata": {},
     "output_type": "execute_result"
    }
   ],
   "source": [
    "cities*3"
   ]
  },
  {
   "cell_type": "code",
   "execution_count": 15,
   "metadata": {},
   "outputs": [
    {
     "data": {
      "text/plain": [
       "Barselona   NaN\n",
       "dtype: float64"
      ]
     },
     "execution_count": 15,
     "metadata": {},
     "output_type": "execute_result"
    }
   ],
   "source": [
    "cities[cities.isnull()]"
   ]
  },
  {
   "cell_type": "code",
   "execution_count": 16,
   "metadata": {},
   "outputs": [
    {
     "data": {
      "text/plain": [
       "Moscow      3.0\n",
       "London      3.0\n",
       "New York    3.0\n",
       "dtype: float64"
      ]
     },
     "execution_count": 16,
     "metadata": {},
     "output_type": "execute_result"
    }
   ],
   "source": [
    "cities[cities.notnull()]"
   ]
  },
  {
   "cell_type": "markdown",
   "metadata": {},
   "source": [
    "# Размаер датасета, типы данных и названия столбцов"
   ]
  },
  {
   "cell_type": "code",
   "execution_count": 17,
   "metadata": {},
   "outputs": [],
   "source": [
    "df=pd.read_csv(\"Desktop\\citibike.csv\")"
   ]
  },
  {
   "cell_type": "code",
   "execution_count": 18,
   "metadata": {},
   "outputs": [
    {
     "data": {
      "text/html": [
       "<div>\n",
       "<style scoped>\n",
       "    .dataframe tbody tr th:only-of-type {\n",
       "        vertical-align: middle;\n",
       "    }\n",
       "\n",
       "    .dataframe tbody tr th {\n",
       "        vertical-align: top;\n",
       "    }\n",
       "\n",
       "    .dataframe thead th {\n",
       "        text-align: right;\n",
       "    }\n",
       "</style>\n",
       "<table border=\"1\" class=\"dataframe\">\n",
       "  <thead>\n",
       "    <tr style=\"text-align: right;\">\n",
       "      <th></th>\n",
       "      <th>tripduration</th>\n",
       "      <th>starttime</th>\n",
       "      <th>stoptime</th>\n",
       "      <th>start station id</th>\n",
       "      <th>start station name</th>\n",
       "      <th>start station latitude</th>\n",
       "      <th>start station longitude</th>\n",
       "      <th>end station id</th>\n",
       "      <th>end station name</th>\n",
       "      <th>end station latitude</th>\n",
       "      <th>end station longitude</th>\n",
       "      <th>bikeid</th>\n",
       "      <th>usertype</th>\n",
       "      <th>birth year</th>\n",
       "      <th>gender</th>\n",
       "    </tr>\n",
       "  </thead>\n",
       "  <tbody>\n",
       "    <tr>\n",
       "      <th>0</th>\n",
       "      <td>1635</td>\n",
       "      <td>2018-09-01 00:00:05.2690</td>\n",
       "      <td>2018-09-01 00:27:20.6340</td>\n",
       "      <td>252.0</td>\n",
       "      <td>MacDougal St &amp; Washington Sq</td>\n",
       "      <td>40.732264</td>\n",
       "      <td>-73.998522</td>\n",
       "      <td>366.0</td>\n",
       "      <td>Clinton Ave &amp; Myrtle Ave</td>\n",
       "      <td>40.693261</td>\n",
       "      <td>-73.968896</td>\n",
       "      <td>25577</td>\n",
       "      <td>Subscriber</td>\n",
       "      <td>1980</td>\n",
       "      <td>1</td>\n",
       "    </tr>\n",
       "    <tr>\n",
       "      <th>1</th>\n",
       "      <td>132</td>\n",
       "      <td>2018-09-01 00:00:11.2810</td>\n",
       "      <td>2018-09-01 00:02:23.4810</td>\n",
       "      <td>314.0</td>\n",
       "      <td>Cadman Plaza West &amp; Montague St</td>\n",
       "      <td>40.693830</td>\n",
       "      <td>-73.990539</td>\n",
       "      <td>3242.0</td>\n",
       "      <td>Schermerhorn St &amp; Court St</td>\n",
       "      <td>40.691029</td>\n",
       "      <td>-73.991834</td>\n",
       "      <td>34377</td>\n",
       "      <td>Subscriber</td>\n",
       "      <td>1969</td>\n",
       "      <td>0</td>\n",
       "    </tr>\n",
       "    <tr>\n",
       "      <th>2</th>\n",
       "      <td>3337</td>\n",
       "      <td>2018-09-01 00:00:20.6490</td>\n",
       "      <td>2018-09-01 00:55:58.5470</td>\n",
       "      <td>3142.0</td>\n",
       "      <td>1 Ave &amp; E 62 St</td>\n",
       "      <td>40.761227</td>\n",
       "      <td>-73.960940</td>\n",
       "      <td>3384.0</td>\n",
       "      <td>Smith St &amp; 3 St</td>\n",
       "      <td>40.678724</td>\n",
       "      <td>-73.995991</td>\n",
       "      <td>30496</td>\n",
       "      <td>Subscriber</td>\n",
       "      <td>1975</td>\n",
       "      <td>1</td>\n",
       "    </tr>\n",
       "  </tbody>\n",
       "</table>\n",
       "</div>"
      ],
      "text/plain": [
       "   tripduration                 starttime                  stoptime  \\\n",
       "0          1635  2018-09-01 00:00:05.2690  2018-09-01 00:27:20.6340   \n",
       "1           132  2018-09-01 00:00:11.2810  2018-09-01 00:02:23.4810   \n",
       "2          3337  2018-09-01 00:00:20.6490  2018-09-01 00:55:58.5470   \n",
       "\n",
       "   start station id               start station name  start station latitude  \\\n",
       "0             252.0     MacDougal St & Washington Sq               40.732264   \n",
       "1             314.0  Cadman Plaza West & Montague St               40.693830   \n",
       "2            3142.0                  1 Ave & E 62 St               40.761227   \n",
       "\n",
       "   start station longitude  end station id            end station name  \\\n",
       "0               -73.998522           366.0    Clinton Ave & Myrtle Ave   \n",
       "1               -73.990539          3242.0  Schermerhorn St & Court St   \n",
       "2               -73.960940          3384.0             Smith St & 3 St   \n",
       "\n",
       "   end station latitude  end station longitude  bikeid    usertype  \\\n",
       "0             40.693261             -73.968896   25577  Subscriber   \n",
       "1             40.691029             -73.991834   34377  Subscriber   \n",
       "2             40.678724             -73.995991   30496  Subscriber   \n",
       "\n",
       "   birth year  gender  \n",
       "0        1980       1  \n",
       "1        1969       0  \n",
       "2        1975       1  "
      ]
     },
     "execution_count": 18,
     "metadata": {},
     "output_type": "execute_result"
    }
   ],
   "source": [
    "df.head(3)"
   ]
  },
  {
   "cell_type": "code",
   "execution_count": 19,
   "metadata": {},
   "outputs": [
    {
     "data": {
      "text/html": [
       "<div>\n",
       "<style scoped>\n",
       "    .dataframe tbody tr th:only-of-type {\n",
       "        vertical-align: middle;\n",
       "    }\n",
       "\n",
       "    .dataframe tbody tr th {\n",
       "        vertical-align: top;\n",
       "    }\n",
       "\n",
       "    .dataframe thead th {\n",
       "        text-align: right;\n",
       "    }\n",
       "</style>\n",
       "<table border=\"1\" class=\"dataframe\">\n",
       "  <thead>\n",
       "    <tr style=\"text-align: right;\">\n",
       "      <th></th>\n",
       "      <th>tripduration</th>\n",
       "      <th>starttime</th>\n",
       "      <th>stoptime</th>\n",
       "      <th>start station id</th>\n",
       "      <th>start station name</th>\n",
       "      <th>start station latitude</th>\n",
       "      <th>start station longitude</th>\n",
       "      <th>end station id</th>\n",
       "      <th>end station name</th>\n",
       "      <th>end station latitude</th>\n",
       "      <th>end station longitude</th>\n",
       "      <th>bikeid</th>\n",
       "      <th>usertype</th>\n",
       "      <th>birth year</th>\n",
       "      <th>gender</th>\n",
       "    </tr>\n",
       "  </thead>\n",
       "  <tbody>\n",
       "    <tr>\n",
       "      <th>1877881</th>\n",
       "      <td>1442</td>\n",
       "      <td>2018-09-30 08:10:03.1790</td>\n",
       "      <td>2018-09-30 08:34:05.3870</td>\n",
       "      <td>3601.0</td>\n",
       "      <td>Sterling St &amp; Bedford Ave</td>\n",
       "      <td>40.662706</td>\n",
       "      <td>-73.956912</td>\n",
       "      <td>471.0</td>\n",
       "      <td>Grand St &amp; Havemeyer St</td>\n",
       "      <td>40.712868</td>\n",
       "      <td>-73.956981</td>\n",
       "      <td>28646</td>\n",
       "      <td>Subscriber</td>\n",
       "      <td>1981</td>\n",
       "      <td>1</td>\n",
       "    </tr>\n",
       "    <tr>\n",
       "      <th>1877882</th>\n",
       "      <td>453</td>\n",
       "      <td>2018-09-30 12:20:13.6830</td>\n",
       "      <td>2018-09-30 12:27:46.9140</td>\n",
       "      <td>3601.0</td>\n",
       "      <td>Sterling St &amp; Bedford Ave</td>\n",
       "      <td>40.662706</td>\n",
       "      <td>-73.956912</td>\n",
       "      <td>3584.0</td>\n",
       "      <td>Eastern Pkwy &amp; Franklin Ave</td>\n",
       "      <td>40.670777</td>\n",
       "      <td>-73.957680</td>\n",
       "      <td>34272</td>\n",
       "      <td>Subscriber</td>\n",
       "      <td>1986</td>\n",
       "      <td>1</td>\n",
       "    </tr>\n",
       "    <tr>\n",
       "      <th>1877883</th>\n",
       "      <td>1354</td>\n",
       "      <td>2018-09-30 14:10:01.1620</td>\n",
       "      <td>2018-09-30 14:32:36.1280</td>\n",
       "      <td>3601.0</td>\n",
       "      <td>Sterling St &amp; Bedford Ave</td>\n",
       "      <td>40.662706</td>\n",
       "      <td>-73.956912</td>\n",
       "      <td>3321.0</td>\n",
       "      <td>Clinton St &amp; Union St</td>\n",
       "      <td>40.683116</td>\n",
       "      <td>-73.997853</td>\n",
       "      <td>26028</td>\n",
       "      <td>Subscriber</td>\n",
       "      <td>1981</td>\n",
       "      <td>1</td>\n",
       "    </tr>\n",
       "  </tbody>\n",
       "</table>\n",
       "</div>"
      ],
      "text/plain": [
       "         tripduration                 starttime                  stoptime  \\\n",
       "1877881          1442  2018-09-30 08:10:03.1790  2018-09-30 08:34:05.3870   \n",
       "1877882           453  2018-09-30 12:20:13.6830  2018-09-30 12:27:46.9140   \n",
       "1877883          1354  2018-09-30 14:10:01.1620  2018-09-30 14:32:36.1280   \n",
       "\n",
       "         start station id         start station name  start station latitude  \\\n",
       "1877881            3601.0  Sterling St & Bedford Ave               40.662706   \n",
       "1877882            3601.0  Sterling St & Bedford Ave               40.662706   \n",
       "1877883            3601.0  Sterling St & Bedford Ave               40.662706   \n",
       "\n",
       "         start station longitude  end station id             end station name  \\\n",
       "1877881               -73.956912           471.0      Grand St & Havemeyer St   \n",
       "1877882               -73.956912          3584.0  Eastern Pkwy & Franklin Ave   \n",
       "1877883               -73.956912          3321.0        Clinton St & Union St   \n",
       "\n",
       "         end station latitude  end station longitude  bikeid    usertype  \\\n",
       "1877881             40.712868             -73.956981   28646  Subscriber   \n",
       "1877882             40.670777             -73.957680   34272  Subscriber   \n",
       "1877883             40.683116             -73.997853   26028  Subscriber   \n",
       "\n",
       "         birth year  gender  \n",
       "1877881        1981       1  \n",
       "1877882        1986       1  \n",
       "1877883        1981       1  "
      ]
     },
     "execution_count": 19,
     "metadata": {},
     "output_type": "execute_result"
    }
   ],
   "source": [
    "df.tail(3)"
   ]
  },
  {
   "cell_type": "code",
   "execution_count": 20,
   "metadata": {},
   "outputs": [
    {
     "data": {
      "text/plain": [
       "(1877884, 15)"
      ]
     },
     "execution_count": 20,
     "metadata": {},
     "output_type": "execute_result"
    }
   ],
   "source": [
    "df.shape"
   ]
  },
  {
   "cell_type": "code",
   "execution_count": 21,
   "metadata": {},
   "outputs": [
    {
     "data": {
      "text/plain": [
       "Index(['tripduration', 'starttime', 'stoptime', 'start station id',\n",
       "       'start station name', 'start station latitude',\n",
       "       'start station longitude', 'end station id', 'end station name',\n",
       "       'end station latitude', 'end station longitude', 'bikeid', 'usertype',\n",
       "       'birth year', 'gender'],\n",
       "      dtype='object')"
      ]
     },
     "execution_count": 21,
     "metadata": {},
     "output_type": "execute_result"
    }
   ],
   "source": [
    "df.columns"
   ]
  },
  {
   "cell_type": "code",
   "execution_count": 22,
   "metadata": {},
   "outputs": [
    {
     "data": {
      "text/html": [
       "<div>\n",
       "<style scoped>\n",
       "    .dataframe tbody tr th:only-of-type {\n",
       "        vertical-align: middle;\n",
       "    }\n",
       "\n",
       "    .dataframe tbody tr th {\n",
       "        vertical-align: top;\n",
       "    }\n",
       "\n",
       "    .dataframe thead th {\n",
       "        text-align: right;\n",
       "    }\n",
       "</style>\n",
       "<table border=\"1\" class=\"dataframe\">\n",
       "  <thead>\n",
       "    <tr style=\"text-align: right;\">\n",
       "      <th></th>\n",
       "      <th>starttime</th>\n",
       "      <th>start station name</th>\n",
       "    </tr>\n",
       "  </thead>\n",
       "  <tbody>\n",
       "    <tr>\n",
       "      <th>0</th>\n",
       "      <td>2018-09-01 00:00:05.2690</td>\n",
       "      <td>MacDougal St &amp; Washington Sq</td>\n",
       "    </tr>\n",
       "    <tr>\n",
       "      <th>1</th>\n",
       "      <td>2018-09-01 00:00:11.2810</td>\n",
       "      <td>Cadman Plaza West &amp; Montague St</td>\n",
       "    </tr>\n",
       "    <tr>\n",
       "      <th>2</th>\n",
       "      <td>2018-09-01 00:00:20.6490</td>\n",
       "      <td>1 Ave &amp; E 62 St</td>\n",
       "    </tr>\n",
       "    <tr>\n",
       "      <th>3</th>\n",
       "      <td>2018-09-01 00:00:21.7460</td>\n",
       "      <td>St James Pl &amp; Oliver St</td>\n",
       "    </tr>\n",
       "    <tr>\n",
       "      <th>4</th>\n",
       "      <td>2018-09-01 00:00:27.3150</td>\n",
       "      <td>W 13 St &amp; 6 Ave</td>\n",
       "    </tr>\n",
       "  </tbody>\n",
       "</table>\n",
       "</div>"
      ],
      "text/plain": [
       "                  starttime               start station name\n",
       "0  2018-09-01 00:00:05.2690     MacDougal St & Washington Sq\n",
       "1  2018-09-01 00:00:11.2810  Cadman Plaza West & Montague St\n",
       "2  2018-09-01 00:00:20.6490                  1 Ave & E 62 St\n",
       "3  2018-09-01 00:00:21.7460          St James Pl & Oliver St\n",
       "4  2018-09-01 00:00:27.3150                  W 13 St & 6 Ave"
      ]
     },
     "execution_count": 22,
     "metadata": {},
     "output_type": "execute_result"
    }
   ],
   "source": [
    "df[[\"starttime\",\"start station name\"]].head()"
   ]
  },
  {
   "cell_type": "markdown",
   "metadata": {},
   "source": [
    "# Loc/iloc-обращение к элементам датафрейма"
   ]
  },
  {
   "cell_type": "code",
   "execution_count": 23,
   "metadata": {},
   "outputs": [
    {
     "data": {
      "text/plain": [
       "tripduration                                    1354\n",
       "starttime                   2018-09-30 14:10:01.1620\n",
       "stoptime                    2018-09-30 14:32:36.1280\n",
       "start station id                                3601\n",
       "start station name         Sterling St & Bedford Ave\n",
       "start station latitude                       40.6627\n",
       "start station longitude                     -73.9569\n",
       "end station id                                  3321\n",
       "end station name               Clinton St & Union St\n",
       "end station latitude                         40.6831\n",
       "end station longitude                       -73.9979\n",
       "bikeid                                         26028\n",
       "usertype                                  Subscriber\n",
       "birth year                                      1981\n",
       "gender                                             1\n",
       "Name: 1877883, dtype: object"
      ]
     },
     "execution_count": 23,
     "metadata": {},
     "output_type": "execute_result"
    }
   ],
   "source": [
    "df.iloc[-1]"
   ]
  },
  {
   "cell_type": "code",
   "execution_count": 24,
   "metadata": {},
   "outputs": [
    {
     "data": {
      "text/plain": [
       "'Sterling St & Bedford Ave'"
      ]
     },
     "execution_count": 24,
     "metadata": {},
     "output_type": "execute_result"
    }
   ],
   "source": [
    "df.iloc[-1,4]"
   ]
  },
  {
   "cell_type": "code",
   "execution_count": 25,
   "metadata": {},
   "outputs": [
    {
     "data": {
      "text/plain": [
       "tripduration    132\n",
       "Name: 1, dtype: object"
      ]
     },
     "execution_count": 25,
     "metadata": {},
     "output_type": "execute_result"
    }
   ],
   "source": [
    "df.loc[1,[\"tripduration\"]]"
   ]
  },
  {
   "cell_type": "code",
   "execution_count": 26,
   "metadata": {},
   "outputs": [
    {
     "data": {
      "text/html": [
       "<div>\n",
       "<style scoped>\n",
       "    .dataframe tbody tr th:only-of-type {\n",
       "        vertical-align: middle;\n",
       "    }\n",
       "\n",
       "    .dataframe tbody tr th {\n",
       "        vertical-align: top;\n",
       "    }\n",
       "\n",
       "    .dataframe thead th {\n",
       "        text-align: right;\n",
       "    }\n",
       "</style>\n",
       "<table border=\"1\" class=\"dataframe\">\n",
       "  <thead>\n",
       "    <tr style=\"text-align: right;\">\n",
       "      <th></th>\n",
       "      <th>tripduration</th>\n",
       "      <th>starttime</th>\n",
       "      <th>stoptime</th>\n",
       "      <th>start station id</th>\n",
       "    </tr>\n",
       "  </thead>\n",
       "  <tbody>\n",
       "    <tr>\n",
       "      <th>0</th>\n",
       "      <td>1635</td>\n",
       "      <td>2018-09-01 00:00:05.2690</td>\n",
       "      <td>2018-09-01 00:27:20.6340</td>\n",
       "      <td>252.0</td>\n",
       "    </tr>\n",
       "    <tr>\n",
       "      <th>1</th>\n",
       "      <td>132</td>\n",
       "      <td>2018-09-01 00:00:11.2810</td>\n",
       "      <td>2018-09-01 00:02:23.4810</td>\n",
       "      <td>314.0</td>\n",
       "    </tr>\n",
       "    <tr>\n",
       "      <th>2</th>\n",
       "      <td>3337</td>\n",
       "      <td>2018-09-01 00:00:20.6490</td>\n",
       "      <td>2018-09-01 00:55:58.5470</td>\n",
       "      <td>3142.0</td>\n",
       "    </tr>\n",
       "    <tr>\n",
       "      <th>3</th>\n",
       "      <td>436</td>\n",
       "      <td>2018-09-01 00:00:21.7460</td>\n",
       "      <td>2018-09-01 00:07:38.5830</td>\n",
       "      <td>308.0</td>\n",
       "    </tr>\n",
       "    <tr>\n",
       "      <th>4</th>\n",
       "      <td>8457</td>\n",
       "      <td>2018-09-01 00:00:27.3150</td>\n",
       "      <td>2018-09-01 02:21:25.3080</td>\n",
       "      <td>345.0</td>\n",
       "    </tr>\n",
       "    <tr>\n",
       "      <th>5</th>\n",
       "      <td>3326</td>\n",
       "      <td>2018-09-01 00:00:29.3030</td>\n",
       "      <td>2018-09-01 00:55:56.2020</td>\n",
       "      <td>3142.0</td>\n",
       "    </tr>\n",
       "  </tbody>\n",
       "</table>\n",
       "</div>"
      ],
      "text/plain": [
       "   tripduration                 starttime                  stoptime  \\\n",
       "0          1635  2018-09-01 00:00:05.2690  2018-09-01 00:27:20.6340   \n",
       "1           132  2018-09-01 00:00:11.2810  2018-09-01 00:02:23.4810   \n",
       "2          3337  2018-09-01 00:00:20.6490  2018-09-01 00:55:58.5470   \n",
       "3           436  2018-09-01 00:00:21.7460  2018-09-01 00:07:38.5830   \n",
       "4          8457  2018-09-01 00:00:27.3150  2018-09-01 02:21:25.3080   \n",
       "5          3326  2018-09-01 00:00:29.3030  2018-09-01 00:55:56.2020   \n",
       "\n",
       "   start station id  \n",
       "0             252.0  \n",
       "1             314.0  \n",
       "2            3142.0  \n",
       "3             308.0  \n",
       "4             345.0  \n",
       "5            3142.0  "
      ]
     },
     "execution_count": 26,
     "metadata": {},
     "output_type": "execute_result"
    }
   ],
   "source": [
    "df.iloc[0:6,0:4]"
   ]
  },
  {
   "cell_type": "code",
   "execution_count": 27,
   "metadata": {},
   "outputs": [
    {
     "data": {
      "text/html": [
       "<div>\n",
       "<style scoped>\n",
       "    .dataframe tbody tr th:only-of-type {\n",
       "        vertical-align: middle;\n",
       "    }\n",
       "\n",
       "    .dataframe tbody tr th {\n",
       "        vertical-align: top;\n",
       "    }\n",
       "\n",
       "    .dataframe thead th {\n",
       "        text-align: right;\n",
       "    }\n",
       "</style>\n",
       "<table border=\"1\" class=\"dataframe\">\n",
       "  <thead>\n",
       "    <tr style=\"text-align: right;\">\n",
       "      <th></th>\n",
       "      <th>tripduration</th>\n",
       "      <th>starttime</th>\n",
       "      <th>stoptime</th>\n",
       "      <th>start station id</th>\n",
       "      <th>start station name</th>\n",
       "    </tr>\n",
       "  </thead>\n",
       "  <tbody>\n",
       "    <tr>\n",
       "      <th>0</th>\n",
       "      <td>1635</td>\n",
       "      <td>2018-09-01 00:00:05.2690</td>\n",
       "      <td>2018-09-01 00:27:20.6340</td>\n",
       "      <td>252.0</td>\n",
       "      <td>MacDougal St &amp; Washington Sq</td>\n",
       "    </tr>\n",
       "    <tr>\n",
       "      <th>1</th>\n",
       "      <td>132</td>\n",
       "      <td>2018-09-01 00:00:11.2810</td>\n",
       "      <td>2018-09-01 00:02:23.4810</td>\n",
       "      <td>314.0</td>\n",
       "      <td>Cadman Plaza West &amp; Montague St</td>\n",
       "    </tr>\n",
       "    <tr>\n",
       "      <th>2</th>\n",
       "      <td>3337</td>\n",
       "      <td>2018-09-01 00:00:20.6490</td>\n",
       "      <td>2018-09-01 00:55:58.5470</td>\n",
       "      <td>3142.0</td>\n",
       "      <td>1 Ave &amp; E 62 St</td>\n",
       "    </tr>\n",
       "    <tr>\n",
       "      <th>3</th>\n",
       "      <td>436</td>\n",
       "      <td>2018-09-01 00:00:21.7460</td>\n",
       "      <td>2018-09-01 00:07:38.5830</td>\n",
       "      <td>308.0</td>\n",
       "      <td>St James Pl &amp; Oliver St</td>\n",
       "    </tr>\n",
       "    <tr>\n",
       "      <th>4</th>\n",
       "      <td>8457</td>\n",
       "      <td>2018-09-01 00:00:27.3150</td>\n",
       "      <td>2018-09-01 02:21:25.3080</td>\n",
       "      <td>345.0</td>\n",
       "      <td>W 13 St &amp; 6 Ave</td>\n",
       "    </tr>\n",
       "    <tr>\n",
       "      <th>5</th>\n",
       "      <td>3326</td>\n",
       "      <td>2018-09-01 00:00:29.3030</td>\n",
       "      <td>2018-09-01 00:55:56.2020</td>\n",
       "      <td>3142.0</td>\n",
       "      <td>1 Ave &amp; E 62 St</td>\n",
       "    </tr>\n",
       "    <tr>\n",
       "      <th>6</th>\n",
       "      <td>233</td>\n",
       "      <td>2018-09-01 00:00:27.2780</td>\n",
       "      <td>2018-09-01 00:04:20.7420</td>\n",
       "      <td>3526.0</td>\n",
       "      <td>31 St &amp; 23 Ave</td>\n",
       "    </tr>\n",
       "  </tbody>\n",
       "</table>\n",
       "</div>"
      ],
      "text/plain": [
       "   tripduration                 starttime                  stoptime  \\\n",
       "0          1635  2018-09-01 00:00:05.2690  2018-09-01 00:27:20.6340   \n",
       "1           132  2018-09-01 00:00:11.2810  2018-09-01 00:02:23.4810   \n",
       "2          3337  2018-09-01 00:00:20.6490  2018-09-01 00:55:58.5470   \n",
       "3           436  2018-09-01 00:00:21.7460  2018-09-01 00:07:38.5830   \n",
       "4          8457  2018-09-01 00:00:27.3150  2018-09-01 02:21:25.3080   \n",
       "5          3326  2018-09-01 00:00:29.3030  2018-09-01 00:55:56.2020   \n",
       "6           233  2018-09-01 00:00:27.2780  2018-09-01 00:04:20.7420   \n",
       "\n",
       "   start station id               start station name  \n",
       "0             252.0     MacDougal St & Washington Sq  \n",
       "1             314.0  Cadman Plaza West & Montague St  \n",
       "2            3142.0                  1 Ave & E 62 St  \n",
       "3             308.0          St James Pl & Oliver St  \n",
       "4             345.0                  W 13 St & 6 Ave  \n",
       "5            3142.0                  1 Ave & E 62 St  \n",
       "6            3526.0                   31 St & 23 Ave  "
      ]
     },
     "execution_count": 27,
     "metadata": {},
     "output_type": "execute_result"
    }
   ],
   "source": [
    "df.loc[0:6,\"tripduration\":\"start station name\"]"
   ]
  },
  {
   "cell_type": "markdown",
   "metadata": {},
   "source": [
    "# Фильтрация"
   ]
  },
  {
   "cell_type": "code",
   "execution_count": 28,
   "metadata": {},
   "outputs": [
    {
     "data": {
      "text/plain": [
       "(520897, 15)"
      ]
     },
     "execution_count": 28,
     "metadata": {},
     "output_type": "execute_result"
    }
   ],
   "source": [
    "df[df[\"tripduration\"]<400].shape"
   ]
  },
  {
   "cell_type": "code",
   "execution_count": 29,
   "metadata": {},
   "outputs": [
    {
     "data": {
      "text/plain": [
       "(1224417, 15)"
      ]
     },
     "execution_count": 29,
     "metadata": {},
     "output_type": "execute_result"
    }
   ],
   "source": [
    "df[(df[\"tripduration\"]<1000) & (df[\"usertype\"]==\"Subscriber\")].shape"
   ]
  },
  {
   "cell_type": "markdown",
   "metadata": {},
   "source": [
    "# Статистика по дата фрейму"
   ]
  },
  {
   "cell_type": "code",
   "execution_count": 30,
   "metadata": {},
   "outputs": [
    {
     "data": {
      "text/html": [
       "<div>\n",
       "<style scoped>\n",
       "    .dataframe tbody tr th:only-of-type {\n",
       "        vertical-align: middle;\n",
       "    }\n",
       "\n",
       "    .dataframe tbody tr th {\n",
       "        vertical-align: top;\n",
       "    }\n",
       "\n",
       "    .dataframe thead th {\n",
       "        text-align: right;\n",
       "    }\n",
       "</style>\n",
       "<table border=\"1\" class=\"dataframe\">\n",
       "  <thead>\n",
       "    <tr style=\"text-align: right;\">\n",
       "      <th></th>\n",
       "      <th>tripduration</th>\n",
       "      <th>start station id</th>\n",
       "      <th>start station latitude</th>\n",
       "      <th>start station longitude</th>\n",
       "      <th>end station id</th>\n",
       "      <th>end station latitude</th>\n",
       "      <th>end station longitude</th>\n",
       "      <th>bikeid</th>\n",
       "      <th>birth year</th>\n",
       "      <th>gender</th>\n",
       "    </tr>\n",
       "  </thead>\n",
       "  <tbody>\n",
       "    <tr>\n",
       "      <th>count</th>\n",
       "      <td>1.877884e+06</td>\n",
       "      <td>1.877168e+06</td>\n",
       "      <td>1.877884e+06</td>\n",
       "      <td>1.877884e+06</td>\n",
       "      <td>1.877168e+06</td>\n",
       "      <td>1.877884e+06</td>\n",
       "      <td>1.877884e+06</td>\n",
       "      <td>1.877884e+06</td>\n",
       "      <td>1.877884e+06</td>\n",
       "      <td>1.877884e+06</td>\n",
       "    </tr>\n",
       "    <tr>\n",
       "      <th>mean</th>\n",
       "      <td>9.675149e+02</td>\n",
       "      <td>1.641635e+03</td>\n",
       "      <td>4.073710e+01</td>\n",
       "      <td>-7.398237e+01</td>\n",
       "      <td>1.634439e+03</td>\n",
       "      <td>4.073674e+01</td>\n",
       "      <td>-7.398257e+01</td>\n",
       "      <td>2.652316e+04</td>\n",
       "      <td>1.979745e+03</td>\n",
       "      <td>1.154400e+00</td>\n",
       "    </tr>\n",
       "    <tr>\n",
       "      <th>std</th>\n",
       "      <td>7.893692e+03</td>\n",
       "      <td>1.454014e+03</td>\n",
       "      <td>3.115605e-02</td>\n",
       "      <td>1.971399e-02</td>\n",
       "      <td>1.453672e+03</td>\n",
       "      <td>3.097150e-02</td>\n",
       "      <td>1.977184e-02</td>\n",
       "      <td>6.363019e+03</td>\n",
       "      <td>1.188049e+01</td>\n",
       "      <td>5.615422e-01</td>\n",
       "    </tr>\n",
       "    <tr>\n",
       "      <th>min</th>\n",
       "      <td>6.100000e+01</td>\n",
       "      <td>7.200000e+01</td>\n",
       "      <td>4.064654e+01</td>\n",
       "      <td>-7.402535e+01</td>\n",
       "      <td>7.200000e+01</td>\n",
       "      <td>4.064654e+01</td>\n",
       "      <td>-7.408364e+01</td>\n",
       "      <td>1.452900e+04</td>\n",
       "      <td>1.885000e+03</td>\n",
       "      <td>0.000000e+00</td>\n",
       "    </tr>\n",
       "    <tr>\n",
       "      <th>25%</th>\n",
       "      <td>3.750000e+02</td>\n",
       "      <td>3.820000e+02</td>\n",
       "      <td>4.071740e+01</td>\n",
       "      <td>-7.399596e+01</td>\n",
       "      <td>3.820000e+02</td>\n",
       "      <td>4.071723e+01</td>\n",
       "      <td>-7.399601e+01</td>\n",
       "      <td>2.010700e+04</td>\n",
       "      <td>1.969000e+03</td>\n",
       "      <td>1.000000e+00</td>\n",
       "    </tr>\n",
       "    <tr>\n",
       "      <th>50%</th>\n",
       "      <td>6.400000e+02</td>\n",
       "      <td>5.140000e+02</td>\n",
       "      <td>4.073705e+01</td>\n",
       "      <td>-7.398565e+01</td>\n",
       "      <td>5.130000e+02</td>\n",
       "      <td>4.073650e+01</td>\n",
       "      <td>-7.398602e+01</td>\n",
       "      <td>2.809200e+04</td>\n",
       "      <td>1.982000e+03</td>\n",
       "      <td>1.000000e+00</td>\n",
       "    </tr>\n",
       "    <tr>\n",
       "      <th>75%</th>\n",
       "      <td>1.129000e+03</td>\n",
       "      <td>3.263000e+03</td>\n",
       "      <td>4.075892e+01</td>\n",
       "      <td>-7.397137e+01</td>\n",
       "      <td>3.263000e+03</td>\n",
       "      <td>4.075757e+01</td>\n",
       "      <td>-7.397179e+01</td>\n",
       "      <td>3.218900e+04</td>\n",
       "      <td>1.989000e+03</td>\n",
       "      <td>1.000000e+00</td>\n",
       "    </tr>\n",
       "    <tr>\n",
       "      <th>max</th>\n",
       "      <td>2.431651e+06</td>\n",
       "      <td>3.705000e+03</td>\n",
       "      <td>4.086900e+01</td>\n",
       "      <td>-7.387800e+01</td>\n",
       "      <td>3.705000e+03</td>\n",
       "      <td>4.086900e+01</td>\n",
       "      <td>-7.387800e+01</td>\n",
       "      <td>3.490700e+04</td>\n",
       "      <td>2.002000e+03</td>\n",
       "      <td>2.000000e+00</td>\n",
       "    </tr>\n",
       "  </tbody>\n",
       "</table>\n",
       "</div>"
      ],
      "text/plain": [
       "       tripduration  start station id  start station latitude  \\\n",
       "count  1.877884e+06      1.877168e+06            1.877884e+06   \n",
       "mean   9.675149e+02      1.641635e+03            4.073710e+01   \n",
       "std    7.893692e+03      1.454014e+03            3.115605e-02   \n",
       "min    6.100000e+01      7.200000e+01            4.064654e+01   \n",
       "25%    3.750000e+02      3.820000e+02            4.071740e+01   \n",
       "50%    6.400000e+02      5.140000e+02            4.073705e+01   \n",
       "75%    1.129000e+03      3.263000e+03            4.075892e+01   \n",
       "max    2.431651e+06      3.705000e+03            4.086900e+01   \n",
       "\n",
       "       start station longitude  end station id  end station latitude  \\\n",
       "count             1.877884e+06    1.877168e+06          1.877884e+06   \n",
       "mean             -7.398237e+01    1.634439e+03          4.073674e+01   \n",
       "std               1.971399e-02    1.453672e+03          3.097150e-02   \n",
       "min              -7.402535e+01    7.200000e+01          4.064654e+01   \n",
       "25%              -7.399596e+01    3.820000e+02          4.071723e+01   \n",
       "50%              -7.398565e+01    5.130000e+02          4.073650e+01   \n",
       "75%              -7.397137e+01    3.263000e+03          4.075757e+01   \n",
       "max              -7.387800e+01    3.705000e+03          4.086900e+01   \n",
       "\n",
       "       end station longitude        bikeid    birth year        gender  \n",
       "count           1.877884e+06  1.877884e+06  1.877884e+06  1.877884e+06  \n",
       "mean           -7.398257e+01  2.652316e+04  1.979745e+03  1.154400e+00  \n",
       "std             1.977184e-02  6.363019e+03  1.188049e+01  5.615422e-01  \n",
       "min            -7.408364e+01  1.452900e+04  1.885000e+03  0.000000e+00  \n",
       "25%            -7.399601e+01  2.010700e+04  1.969000e+03  1.000000e+00  \n",
       "50%            -7.398602e+01  2.809200e+04  1.982000e+03  1.000000e+00  \n",
       "75%            -7.397179e+01  3.218900e+04  1.989000e+03  1.000000e+00  \n",
       "max            -7.387800e+01  3.490700e+04  2.002000e+03  2.000000e+00  "
      ]
     },
     "execution_count": 30,
     "metadata": {},
     "output_type": "execute_result"
    }
   ],
   "source": [
    "df.describe()"
   ]
  },
  {
   "cell_type": "code",
   "execution_count": 31,
   "metadata": {},
   "outputs": [
    {
     "data": {
      "text/html": [
       "<div>\n",
       "<style scoped>\n",
       "    .dataframe tbody tr th:only-of-type {\n",
       "        vertical-align: middle;\n",
       "    }\n",
       "\n",
       "    .dataframe tbody tr th {\n",
       "        vertical-align: top;\n",
       "    }\n",
       "\n",
       "    .dataframe thead th {\n",
       "        text-align: right;\n",
       "    }\n",
       "</style>\n",
       "<table border=\"1\" class=\"dataframe\">\n",
       "  <thead>\n",
       "    <tr style=\"text-align: right;\">\n",
       "      <th></th>\n",
       "      <th>starttime</th>\n",
       "      <th>stoptime</th>\n",
       "      <th>start station name</th>\n",
       "      <th>end station name</th>\n",
       "      <th>usertype</th>\n",
       "    </tr>\n",
       "  </thead>\n",
       "  <tbody>\n",
       "    <tr>\n",
       "      <th>count</th>\n",
       "      <td>1877884</td>\n",
       "      <td>1877884</td>\n",
       "      <td>1877168</td>\n",
       "      <td>1877168</td>\n",
       "      <td>1877884</td>\n",
       "    </tr>\n",
       "    <tr>\n",
       "      <th>unique</th>\n",
       "      <td>1876752</td>\n",
       "      <td>1876712</td>\n",
       "      <td>768</td>\n",
       "      <td>783</td>\n",
       "      <td>2</td>\n",
       "    </tr>\n",
       "    <tr>\n",
       "      <th>top</th>\n",
       "      <td>2018-09-19 10:17:02.4320</td>\n",
       "      <td>2018-09-13 17:52:04.1610</td>\n",
       "      <td>Pershing Square North</td>\n",
       "      <td>Pershing Square North</td>\n",
       "      <td>Subscriber</td>\n",
       "    </tr>\n",
       "    <tr>\n",
       "      <th>freq</th>\n",
       "      <td>2</td>\n",
       "      <td>3</td>\n",
       "      <td>13968</td>\n",
       "      <td>13834</td>\n",
       "      <td>1616731</td>\n",
       "    </tr>\n",
       "  </tbody>\n",
       "</table>\n",
       "</div>"
      ],
      "text/plain": [
       "                       starttime                  stoptime  \\\n",
       "count                    1877884                   1877884   \n",
       "unique                   1876752                   1876712   \n",
       "top     2018-09-19 10:17:02.4320  2018-09-13 17:52:04.1610   \n",
       "freq                           2                         3   \n",
       "\n",
       "           start station name       end station name    usertype  \n",
       "count                 1877168                1877168     1877884  \n",
       "unique                    768                    783           2  \n",
       "top     Pershing Square North  Pershing Square North  Subscriber  \n",
       "freq                    13968                  13834     1616731  "
      ]
     },
     "execution_count": 31,
     "metadata": {},
     "output_type": "execute_result"
    }
   ],
   "source": [
    "df.describe(include=[np.object])"
   ]
  },
  {
   "cell_type": "markdown",
   "metadata": {},
   "source": [
    "### Статистика по значениям внутри столбца"
   ]
  },
  {
   "cell_type": "code",
   "execution_count": 32,
   "metadata": {},
   "outputs": [
    {
     "data": {
      "text/plain": [
       "Subscriber    1616731\n",
       "Customer       261153\n",
       "Name: usertype, dtype: int64"
      ]
     },
     "execution_count": 32,
     "metadata": {},
     "output_type": "execute_result"
    }
   ],
   "source": [
    "df[\"usertype\"].value_counts()"
   ]
  },
  {
   "cell_type": "code",
   "execution_count": 33,
   "metadata": {},
   "outputs": [
    {
     "data": {
      "text/plain": [
       "array([1, 0, 2], dtype=int64)"
      ]
     },
     "execution_count": 33,
     "metadata": {},
     "output_type": "execute_result"
    }
   ],
   "source": [
    "df[\"gender\"].unique()"
   ]
  },
  {
   "cell_type": "markdown",
   "metadata": {},
   "source": [
    "#### Можно найти корреляцию между всеми столбцами датасета(если они численные)"
   ]
  },
  {
   "cell_type": "code",
   "execution_count": 34,
   "metadata": {},
   "outputs": [
    {
     "data": {
      "text/html": [
       "<div>\n",
       "<style scoped>\n",
       "    .dataframe tbody tr th:only-of-type {\n",
       "        vertical-align: middle;\n",
       "    }\n",
       "\n",
       "    .dataframe tbody tr th {\n",
       "        vertical-align: top;\n",
       "    }\n",
       "\n",
       "    .dataframe thead th {\n",
       "        text-align: right;\n",
       "    }\n",
       "</style>\n",
       "<table border=\"1\" class=\"dataframe\">\n",
       "  <thead>\n",
       "    <tr style=\"text-align: right;\">\n",
       "      <th></th>\n",
       "      <th>tripduration</th>\n",
       "      <th>start station id</th>\n",
       "      <th>start station latitude</th>\n",
       "      <th>start station longitude</th>\n",
       "      <th>end station id</th>\n",
       "      <th>end station latitude</th>\n",
       "      <th>end station longitude</th>\n",
       "      <th>bikeid</th>\n",
       "      <th>birth year</th>\n",
       "      <th>gender</th>\n",
       "    </tr>\n",
       "  </thead>\n",
       "  <tbody>\n",
       "    <tr>\n",
       "      <th>tripduration</th>\n",
       "      <td>1.000000</td>\n",
       "      <td>0.006991</td>\n",
       "      <td>0.004032</td>\n",
       "      <td>0.008733</td>\n",
       "      <td>0.008540</td>\n",
       "      <td>0.000082</td>\n",
       "      <td>0.006341</td>\n",
       "      <td>-0.001487</td>\n",
       "      <td>-0.006541</td>\n",
       "      <td>-0.018580</td>\n",
       "    </tr>\n",
       "    <tr>\n",
       "      <th>start station id</th>\n",
       "      <td>0.006991</td>\n",
       "      <td>1.000000</td>\n",
       "      <td>0.182305</td>\n",
       "      <td>0.469959</td>\n",
       "      <td>0.349077</td>\n",
       "      <td>0.137358</td>\n",
       "      <td>0.377866</td>\n",
       "      <td>-0.002573</td>\n",
       "      <td>-0.005237</td>\n",
       "      <td>0.009424</td>\n",
       "    </tr>\n",
       "    <tr>\n",
       "      <th>start station latitude</th>\n",
       "      <td>0.004032</td>\n",
       "      <td>0.182305</td>\n",
       "      <td>1.000000</td>\n",
       "      <td>0.312532</td>\n",
       "      <td>0.125226</td>\n",
       "      <td>0.839905</td>\n",
       "      <td>0.238263</td>\n",
       "      <td>-0.015446</td>\n",
       "      <td>-0.050735</td>\n",
       "      <td>-0.042013</td>\n",
       "    </tr>\n",
       "    <tr>\n",
       "      <th>start station longitude</th>\n",
       "      <td>0.008733</td>\n",
       "      <td>0.469959</td>\n",
       "      <td>0.312532</td>\n",
       "      <td>1.000000</td>\n",
       "      <td>0.375637</td>\n",
       "      <td>0.244208</td>\n",
       "      <td>0.721812</td>\n",
       "      <td>0.001184</td>\n",
       "      <td>0.053049</td>\n",
       "      <td>0.019696</td>\n",
       "    </tr>\n",
       "    <tr>\n",
       "      <th>end station id</th>\n",
       "      <td>0.008540</td>\n",
       "      <td>0.349077</td>\n",
       "      <td>0.125226</td>\n",
       "      <td>0.375637</td>\n",
       "      <td>1.000000</td>\n",
       "      <td>0.170783</td>\n",
       "      <td>0.467875</td>\n",
       "      <td>-0.001076</td>\n",
       "      <td>0.001962</td>\n",
       "      <td>0.009485</td>\n",
       "    </tr>\n",
       "    <tr>\n",
       "      <th>end station latitude</th>\n",
       "      <td>0.000082</td>\n",
       "      <td>0.137358</td>\n",
       "      <td>0.839905</td>\n",
       "      <td>0.244208</td>\n",
       "      <td>0.170783</td>\n",
       "      <td>1.000000</td>\n",
       "      <td>0.316024</td>\n",
       "      <td>-0.012096</td>\n",
       "      <td>-0.051664</td>\n",
       "      <td>-0.041899</td>\n",
       "    </tr>\n",
       "    <tr>\n",
       "      <th>end station longitude</th>\n",
       "      <td>0.006341</td>\n",
       "      <td>0.377866</td>\n",
       "      <td>0.238263</td>\n",
       "      <td>0.721812</td>\n",
       "      <td>0.467875</td>\n",
       "      <td>0.316024</td>\n",
       "      <td>1.000000</td>\n",
       "      <td>0.004346</td>\n",
       "      <td>0.052768</td>\n",
       "      <td>0.017982</td>\n",
       "    </tr>\n",
       "    <tr>\n",
       "      <th>bikeid</th>\n",
       "      <td>-0.001487</td>\n",
       "      <td>-0.002573</td>\n",
       "      <td>-0.015446</td>\n",
       "      <td>0.001184</td>\n",
       "      <td>-0.001076</td>\n",
       "      <td>-0.012096</td>\n",
       "      <td>0.004346</td>\n",
       "      <td>1.000000</td>\n",
       "      <td>0.006665</td>\n",
       "      <td>-0.003170</td>\n",
       "    </tr>\n",
       "    <tr>\n",
       "      <th>birth year</th>\n",
       "      <td>-0.006541</td>\n",
       "      <td>-0.005237</td>\n",
       "      <td>-0.050735</td>\n",
       "      <td>0.053049</td>\n",
       "      <td>0.001962</td>\n",
       "      <td>-0.051664</td>\n",
       "      <td>0.052768</td>\n",
       "      <td>0.006665</td>\n",
       "      <td>1.000000</td>\n",
       "      <td>0.207073</td>\n",
       "    </tr>\n",
       "    <tr>\n",
       "      <th>gender</th>\n",
       "      <td>-0.018580</td>\n",
       "      <td>0.009424</td>\n",
       "      <td>-0.042013</td>\n",
       "      <td>0.019696</td>\n",
       "      <td>0.009485</td>\n",
       "      <td>-0.041899</td>\n",
       "      <td>0.017982</td>\n",
       "      <td>-0.003170</td>\n",
       "      <td>0.207073</td>\n",
       "      <td>1.000000</td>\n",
       "    </tr>\n",
       "  </tbody>\n",
       "</table>\n",
       "</div>"
      ],
      "text/plain": [
       "                         tripduration  start station id  \\\n",
       "tripduration                 1.000000          0.006991   \n",
       "start station id             0.006991          1.000000   \n",
       "start station latitude       0.004032          0.182305   \n",
       "start station longitude      0.008733          0.469959   \n",
       "end station id               0.008540          0.349077   \n",
       "end station latitude         0.000082          0.137358   \n",
       "end station longitude        0.006341          0.377866   \n",
       "bikeid                      -0.001487         -0.002573   \n",
       "birth year                  -0.006541         -0.005237   \n",
       "gender                      -0.018580          0.009424   \n",
       "\n",
       "                         start station latitude  start station longitude  \\\n",
       "tripduration                           0.004032                 0.008733   \n",
       "start station id                       0.182305                 0.469959   \n",
       "start station latitude                 1.000000                 0.312532   \n",
       "start station longitude                0.312532                 1.000000   \n",
       "end station id                         0.125226                 0.375637   \n",
       "end station latitude                   0.839905                 0.244208   \n",
       "end station longitude                  0.238263                 0.721812   \n",
       "bikeid                                -0.015446                 0.001184   \n",
       "birth year                            -0.050735                 0.053049   \n",
       "gender                                -0.042013                 0.019696   \n",
       "\n",
       "                         end station id  end station latitude  \\\n",
       "tripduration                   0.008540              0.000082   \n",
       "start station id               0.349077              0.137358   \n",
       "start station latitude         0.125226              0.839905   \n",
       "start station longitude        0.375637              0.244208   \n",
       "end station id                 1.000000              0.170783   \n",
       "end station latitude           0.170783              1.000000   \n",
       "end station longitude          0.467875              0.316024   \n",
       "bikeid                        -0.001076             -0.012096   \n",
       "birth year                     0.001962             -0.051664   \n",
       "gender                         0.009485             -0.041899   \n",
       "\n",
       "                         end station longitude    bikeid  birth year    gender  \n",
       "tripduration                          0.006341 -0.001487   -0.006541 -0.018580  \n",
       "start station id                      0.377866 -0.002573   -0.005237  0.009424  \n",
       "start station latitude                0.238263 -0.015446   -0.050735 -0.042013  \n",
       "start station longitude               0.721812  0.001184    0.053049  0.019696  \n",
       "end station id                        0.467875 -0.001076    0.001962  0.009485  \n",
       "end station latitude                  0.316024 -0.012096   -0.051664 -0.041899  \n",
       "end station longitude                 1.000000  0.004346    0.052768  0.017982  \n",
       "bikeid                                0.004346  1.000000    0.006665 -0.003170  \n",
       "birth year                            0.052768  0.006665    1.000000  0.207073  \n",
       "gender                                0.017982 -0.003170    0.207073  1.000000  "
      ]
     },
     "execution_count": 34,
     "metadata": {},
     "output_type": "execute_result"
    }
   ],
   "source": [
    "df.corr()"
   ]
  },
  {
   "cell_type": "code",
   "execution_count": 35,
   "metadata": {},
   "outputs": [
    {
     "data": {
      "text/html": [
       "<div>\n",
       "<style scoped>\n",
       "    .dataframe tbody tr th:only-of-type {\n",
       "        vertical-align: middle;\n",
       "    }\n",
       "\n",
       "    .dataframe tbody tr th {\n",
       "        vertical-align: top;\n",
       "    }\n",
       "\n",
       "    .dataframe thead th {\n",
       "        text-align: right;\n",
       "    }\n",
       "</style>\n",
       "<table border=\"1\" class=\"dataframe\">\n",
       "  <thead>\n",
       "    <tr style=\"text-align: right;\">\n",
       "      <th></th>\n",
       "      <th>tripduration</th>\n",
       "      <th>starttime</th>\n",
       "      <th>stoptime</th>\n",
       "      <th>start station id</th>\n",
       "      <th>start station name</th>\n",
       "      <th>start station latitude</th>\n",
       "      <th>start station longitude</th>\n",
       "      <th>end station id</th>\n",
       "      <th>end station name</th>\n",
       "      <th>end station latitude</th>\n",
       "      <th>end station longitude</th>\n",
       "      <th>bikeid</th>\n",
       "      <th>usertype</th>\n",
       "      <th>birth year</th>\n",
       "      <th>gender</th>\n",
       "    </tr>\n",
       "  </thead>\n",
       "  <tbody>\n",
       "    <tr>\n",
       "      <th>1734247</th>\n",
       "      <td>242</td>\n",
       "      <td>2018-09-28 19:49:02.0080</td>\n",
       "      <td>2018-09-28 19:53:04.7160</td>\n",
       "      <td>3286.0</td>\n",
       "      <td>E 89 St &amp; 3 Ave</td>\n",
       "      <td>40.780628</td>\n",
       "      <td>-73.952167</td>\n",
       "      <td>3296.0</td>\n",
       "      <td>E 93 St &amp; 2 Ave</td>\n",
       "      <td>40.782454</td>\n",
       "      <td>-73.948920</td>\n",
       "      <td>28639</td>\n",
       "      <td>Subscriber</td>\n",
       "      <td>1980</td>\n",
       "      <td>1</td>\n",
       "    </tr>\n",
       "    <tr>\n",
       "      <th>483735</th>\n",
       "      <td>470</td>\n",
       "      <td>2018-09-08 13:24:57.6570</td>\n",
       "      <td>2018-09-08 13:32:47.8930</td>\n",
       "      <td>433.0</td>\n",
       "      <td>E 13 St &amp; Avenue A</td>\n",
       "      <td>40.729554</td>\n",
       "      <td>-73.980572</td>\n",
       "      <td>312.0</td>\n",
       "      <td>Allen St &amp; Stanton St</td>\n",
       "      <td>40.722055</td>\n",
       "      <td>-73.989111</td>\n",
       "      <td>20094</td>\n",
       "      <td>Subscriber</td>\n",
       "      <td>1994</td>\n",
       "      <td>2</td>\n",
       "    </tr>\n",
       "    <tr>\n",
       "      <th>1856913</th>\n",
       "      <td>5664</td>\n",
       "      <td>2018-09-30 16:57:21.2220</td>\n",
       "      <td>2018-09-30 18:31:45.5790</td>\n",
       "      <td>523.0</td>\n",
       "      <td>W 38 St &amp; 8 Ave</td>\n",
       "      <td>40.754666</td>\n",
       "      <td>-73.991382</td>\n",
       "      <td>490.0</td>\n",
       "      <td>8 Ave &amp; W 33 St</td>\n",
       "      <td>40.751551</td>\n",
       "      <td>-73.993934</td>\n",
       "      <td>15410</td>\n",
       "      <td>Customer</td>\n",
       "      <td>1959</td>\n",
       "      <td>1</td>\n",
       "    </tr>\n",
       "    <tr>\n",
       "      <th>1597633</th>\n",
       "      <td>486</td>\n",
       "      <td>2018-09-26 19:02:00.5610</td>\n",
       "      <td>2018-09-26 19:10:07.5130</td>\n",
       "      <td>496.0</td>\n",
       "      <td>E 16 St &amp; 5 Ave</td>\n",
       "      <td>40.737262</td>\n",
       "      <td>-73.992390</td>\n",
       "      <td>127.0</td>\n",
       "      <td>Barrow St &amp; Hudson St</td>\n",
       "      <td>40.731724</td>\n",
       "      <td>-74.006744</td>\n",
       "      <td>16726</td>\n",
       "      <td>Subscriber</td>\n",
       "      <td>1966</td>\n",
       "      <td>1</td>\n",
       "    </tr>\n",
       "    <tr>\n",
       "      <th>293847</th>\n",
       "      <td>756</td>\n",
       "      <td>2018-09-05 18:20:34.2440</td>\n",
       "      <td>2018-09-05 18:33:10.4730</td>\n",
       "      <td>3165.0</td>\n",
       "      <td>Central Park West &amp; W 72 St</td>\n",
       "      <td>40.775794</td>\n",
       "      <td>-73.976206</td>\n",
       "      <td>3553.0</td>\n",
       "      <td>Frederick Douglass Blvd &amp; W 112 St</td>\n",
       "      <td>40.801694</td>\n",
       "      <td>-73.957145</td>\n",
       "      <td>24829</td>\n",
       "      <td>Subscriber</td>\n",
       "      <td>1969</td>\n",
       "      <td>1</td>\n",
       "    </tr>\n",
       "    <tr>\n",
       "      <th>...</th>\n",
       "      <td>...</td>\n",
       "      <td>...</td>\n",
       "      <td>...</td>\n",
       "      <td>...</td>\n",
       "      <td>...</td>\n",
       "      <td>...</td>\n",
       "      <td>...</td>\n",
       "      <td>...</td>\n",
       "      <td>...</td>\n",
       "      <td>...</td>\n",
       "      <td>...</td>\n",
       "      <td>...</td>\n",
       "      <td>...</td>\n",
       "      <td>...</td>\n",
       "      <td>...</td>\n",
       "    </tr>\n",
       "    <tr>\n",
       "      <th>1682450</th>\n",
       "      <td>627</td>\n",
       "      <td>2018-09-27 22:10:57.1710</td>\n",
       "      <td>2018-09-27 22:21:24.3110</td>\n",
       "      <td>410.0</td>\n",
       "      <td>Suffolk St &amp; Stanton St</td>\n",
       "      <td>40.720664</td>\n",
       "      <td>-73.985180</td>\n",
       "      <td>461.0</td>\n",
       "      <td>E 20 St &amp; 2 Ave</td>\n",
       "      <td>40.735877</td>\n",
       "      <td>-73.982050</td>\n",
       "      <td>29811</td>\n",
       "      <td>Subscriber</td>\n",
       "      <td>1972</td>\n",
       "      <td>2</td>\n",
       "    </tr>\n",
       "    <tr>\n",
       "      <th>652594</th>\n",
       "      <td>574</td>\n",
       "      <td>2018-09-12 12:29:12.2050</td>\n",
       "      <td>2018-09-12 12:38:46.2670</td>\n",
       "      <td>3259.0</td>\n",
       "      <td>9 Ave &amp; W 28 St</td>\n",
       "      <td>40.749370</td>\n",
       "      <td>-73.999234</td>\n",
       "      <td>3659.0</td>\n",
       "      <td>W 17 St &amp; 9 Ave</td>\n",
       "      <td>40.742949</td>\n",
       "      <td>-74.004137</td>\n",
       "      <td>16127</td>\n",
       "      <td>Customer</td>\n",
       "      <td>1969</td>\n",
       "      <td>0</td>\n",
       "    </tr>\n",
       "    <tr>\n",
       "      <th>1320610</th>\n",
       "      <td>270</td>\n",
       "      <td>2018-09-22 00:29:29.3610</td>\n",
       "      <td>2018-09-22 00:34:00.2850</td>\n",
       "      <td>380.0</td>\n",
       "      <td>W 4 St &amp; 7 Ave S</td>\n",
       "      <td>40.734011</td>\n",
       "      <td>-74.002939</td>\n",
       "      <td>345.0</td>\n",
       "      <td>W 13 St &amp; 6 Ave</td>\n",
       "      <td>40.736494</td>\n",
       "      <td>-73.997044</td>\n",
       "      <td>17232</td>\n",
       "      <td>Subscriber</td>\n",
       "      <td>1989</td>\n",
       "      <td>1</td>\n",
       "    </tr>\n",
       "    <tr>\n",
       "      <th>927722</th>\n",
       "      <td>2004</td>\n",
       "      <td>2018-09-16 13:47:58.7250</td>\n",
       "      <td>2018-09-16 14:21:22.9230</td>\n",
       "      <td>236.0</td>\n",
       "      <td>St Marks Pl &amp; 2 Ave</td>\n",
       "      <td>40.728419</td>\n",
       "      <td>-73.987140</td>\n",
       "      <td>151.0</td>\n",
       "      <td>Cleveland Pl &amp; Spring St</td>\n",
       "      <td>40.722104</td>\n",
       "      <td>-73.997249</td>\n",
       "      <td>27379</td>\n",
       "      <td>Customer</td>\n",
       "      <td>1969</td>\n",
       "      <td>0</td>\n",
       "    </tr>\n",
       "    <tr>\n",
       "      <th>668054</th>\n",
       "      <td>410</td>\n",
       "      <td>2018-09-12 17:20:05.6640</td>\n",
       "      <td>2018-09-12 17:26:56.6450</td>\n",
       "      <td>415.0</td>\n",
       "      <td>Pearl St &amp; Hanover Square</td>\n",
       "      <td>40.704718</td>\n",
       "      <td>-74.009260</td>\n",
       "      <td>408.0</td>\n",
       "      <td>Market St &amp; Cherry St</td>\n",
       "      <td>40.710762</td>\n",
       "      <td>-73.994004</td>\n",
       "      <td>26875</td>\n",
       "      <td>Subscriber</td>\n",
       "      <td>1985</td>\n",
       "      <td>1</td>\n",
       "    </tr>\n",
       "  </tbody>\n",
       "</table>\n",
       "<p>187788 rows × 15 columns</p>\n",
       "</div>"
      ],
      "text/plain": [
       "         tripduration                 starttime                  stoptime  \\\n",
       "1734247           242  2018-09-28 19:49:02.0080  2018-09-28 19:53:04.7160   \n",
       "483735            470  2018-09-08 13:24:57.6570  2018-09-08 13:32:47.8930   \n",
       "1856913          5664  2018-09-30 16:57:21.2220  2018-09-30 18:31:45.5790   \n",
       "1597633           486  2018-09-26 19:02:00.5610  2018-09-26 19:10:07.5130   \n",
       "293847            756  2018-09-05 18:20:34.2440  2018-09-05 18:33:10.4730   \n",
       "...               ...                       ...                       ...   \n",
       "1682450           627  2018-09-27 22:10:57.1710  2018-09-27 22:21:24.3110   \n",
       "652594            574  2018-09-12 12:29:12.2050  2018-09-12 12:38:46.2670   \n",
       "1320610           270  2018-09-22 00:29:29.3610  2018-09-22 00:34:00.2850   \n",
       "927722           2004  2018-09-16 13:47:58.7250  2018-09-16 14:21:22.9230   \n",
       "668054            410  2018-09-12 17:20:05.6640  2018-09-12 17:26:56.6450   \n",
       "\n",
       "         start station id           start station name  \\\n",
       "1734247            3286.0              E 89 St & 3 Ave   \n",
       "483735              433.0           E 13 St & Avenue A   \n",
       "1856913             523.0              W 38 St & 8 Ave   \n",
       "1597633             496.0              E 16 St & 5 Ave   \n",
       "293847             3165.0  Central Park West & W 72 St   \n",
       "...                   ...                          ...   \n",
       "1682450             410.0      Suffolk St & Stanton St   \n",
       "652594             3259.0              9 Ave & W 28 St   \n",
       "1320610             380.0             W 4 St & 7 Ave S   \n",
       "927722              236.0          St Marks Pl & 2 Ave   \n",
       "668054              415.0    Pearl St & Hanover Square   \n",
       "\n",
       "         start station latitude  start station longitude  end station id  \\\n",
       "1734247               40.780628               -73.952167          3296.0   \n",
       "483735                40.729554               -73.980572           312.0   \n",
       "1856913               40.754666               -73.991382           490.0   \n",
       "1597633               40.737262               -73.992390           127.0   \n",
       "293847                40.775794               -73.976206          3553.0   \n",
       "...                         ...                      ...             ...   \n",
       "1682450               40.720664               -73.985180           461.0   \n",
       "652594                40.749370               -73.999234          3659.0   \n",
       "1320610               40.734011               -74.002939           345.0   \n",
       "927722                40.728419               -73.987140           151.0   \n",
       "668054                40.704718               -74.009260           408.0   \n",
       "\n",
       "                           end station name  end station latitude  \\\n",
       "1734247                     E 93 St & 2 Ave             40.782454   \n",
       "483735                Allen St & Stanton St             40.722055   \n",
       "1856913                     8 Ave & W 33 St             40.751551   \n",
       "1597633               Barrow St & Hudson St             40.731724   \n",
       "293847   Frederick Douglass Blvd & W 112 St             40.801694   \n",
       "...                                     ...                   ...   \n",
       "1682450                     E 20 St & 2 Ave             40.735877   \n",
       "652594                      W 17 St & 9 Ave             40.742949   \n",
       "1320610                     W 13 St & 6 Ave             40.736494   \n",
       "927722             Cleveland Pl & Spring St             40.722104   \n",
       "668054                Market St & Cherry St             40.710762   \n",
       "\n",
       "         end station longitude  bikeid    usertype  birth year  gender  \n",
       "1734247             -73.948920   28639  Subscriber        1980       1  \n",
       "483735              -73.989111   20094  Subscriber        1994       2  \n",
       "1856913             -73.993934   15410    Customer        1959       1  \n",
       "1597633             -74.006744   16726  Subscriber        1966       1  \n",
       "293847              -73.957145   24829  Subscriber        1969       1  \n",
       "...                        ...     ...         ...         ...     ...  \n",
       "1682450             -73.982050   29811  Subscriber        1972       2  \n",
       "652594              -74.004137   16127    Customer        1969       0  \n",
       "1320610             -73.997044   17232  Subscriber        1989       1  \n",
       "927722              -73.997249   27379    Customer        1969       0  \n",
       "668054              -73.994004   26875  Subscriber        1985       1  \n",
       "\n",
       "[187788 rows x 15 columns]"
      ]
     },
     "execution_count": 35,
     "metadata": {},
     "output_type": "execute_result"
    }
   ],
   "source": [
    "df.sample(frac=0.1)"
   ]
  },
  {
   "cell_type": "markdown",
   "metadata": {},
   "source": [
    "# Группировка данных"
   ]
  },
  {
   "cell_type": "code",
   "execution_count": 80,
   "metadata": {},
   "outputs": [
    {
     "data": {
      "text/plain": [
       "{'Customer': Int64Index([      4,      12,      15,      16,      28,      37,      42,\n",
       "                  46,      47,      71,\n",
       "             ...\n",
       "             1877823, 1877825, 1877826, 1877831, 1877853, 1877864, 1877865,\n",
       "             1877866, 1877870, 1877873],\n",
       "            dtype='int64', length=261153),\n",
       " 'Subscriber': Int64Index([      0,       1,       2,       3,       5,       6,       7,\n",
       "                   8,       9,      10,\n",
       "             ...\n",
       "             1877874, 1877875, 1877876, 1877877, 1877878, 1877879, 1877880,\n",
       "             1877881, 1877882, 1877883],\n",
       "            dtype='int64', length=1616731)}"
      ]
     },
     "execution_count": 80,
     "metadata": {},
     "output_type": "execute_result"
    }
   ],
   "source": [
    "df.groupby([\"usertype\"]).groups"
   ]
  },
  {
   "cell_type": "markdown",
   "metadata": {},
   "source": [
    "#### Что из себя представляет первая строка из каждой группы"
   ]
  },
  {
   "cell_type": "code",
   "execution_count": 37,
   "metadata": {},
   "outputs": [
    {
     "data": {
      "text/html": [
       "<div>\n",
       "<style scoped>\n",
       "    .dataframe tbody tr th:only-of-type {\n",
       "        vertical-align: middle;\n",
       "    }\n",
       "\n",
       "    .dataframe tbody tr th {\n",
       "        vertical-align: top;\n",
       "    }\n",
       "\n",
       "    .dataframe thead th {\n",
       "        text-align: right;\n",
       "    }\n",
       "</style>\n",
       "<table border=\"1\" class=\"dataframe\">\n",
       "  <thead>\n",
       "    <tr style=\"text-align: right;\">\n",
       "      <th></th>\n",
       "      <th>tripduration</th>\n",
       "      <th>starttime</th>\n",
       "      <th>stoptime</th>\n",
       "      <th>start station id</th>\n",
       "      <th>start station name</th>\n",
       "      <th>start station latitude</th>\n",
       "      <th>start station longitude</th>\n",
       "      <th>end station id</th>\n",
       "      <th>end station name</th>\n",
       "      <th>end station latitude</th>\n",
       "      <th>end station longitude</th>\n",
       "      <th>bikeid</th>\n",
       "      <th>birth year</th>\n",
       "      <th>gender</th>\n",
       "    </tr>\n",
       "    <tr>\n",
       "      <th>usertype</th>\n",
       "      <th></th>\n",
       "      <th></th>\n",
       "      <th></th>\n",
       "      <th></th>\n",
       "      <th></th>\n",
       "      <th></th>\n",
       "      <th></th>\n",
       "      <th></th>\n",
       "      <th></th>\n",
       "      <th></th>\n",
       "      <th></th>\n",
       "      <th></th>\n",
       "      <th></th>\n",
       "      <th></th>\n",
       "    </tr>\n",
       "  </thead>\n",
       "  <tbody>\n",
       "    <tr>\n",
       "      <th>Customer</th>\n",
       "      <td>8457</td>\n",
       "      <td>2018-09-01 00:00:27.3150</td>\n",
       "      <td>2018-09-01 02:21:25.3080</td>\n",
       "      <td>345.0</td>\n",
       "      <td>W 13 St &amp; 6 Ave</td>\n",
       "      <td>40.736494</td>\n",
       "      <td>-73.997044</td>\n",
       "      <td>380.0</td>\n",
       "      <td>W 4 St &amp; 7 Ave S</td>\n",
       "      <td>40.734011</td>\n",
       "      <td>-74.002939</td>\n",
       "      <td>20943</td>\n",
       "      <td>1994</td>\n",
       "      <td>1</td>\n",
       "    </tr>\n",
       "    <tr>\n",
       "      <th>Subscriber</th>\n",
       "      <td>1635</td>\n",
       "      <td>2018-09-01 00:00:05.2690</td>\n",
       "      <td>2018-09-01 00:27:20.6340</td>\n",
       "      <td>252.0</td>\n",
       "      <td>MacDougal St &amp; Washington Sq</td>\n",
       "      <td>40.732264</td>\n",
       "      <td>-73.998522</td>\n",
       "      <td>366.0</td>\n",
       "      <td>Clinton Ave &amp; Myrtle Ave</td>\n",
       "      <td>40.693261</td>\n",
       "      <td>-73.968896</td>\n",
       "      <td>25577</td>\n",
       "      <td>1980</td>\n",
       "      <td>1</td>\n",
       "    </tr>\n",
       "  </tbody>\n",
       "</table>\n",
       "</div>"
      ],
      "text/plain": [
       "            tripduration                 starttime                  stoptime  \\\n",
       "usertype                                                                       \n",
       "Customer            8457  2018-09-01 00:00:27.3150  2018-09-01 02:21:25.3080   \n",
       "Subscriber          1635  2018-09-01 00:00:05.2690  2018-09-01 00:27:20.6340   \n",
       "\n",
       "            start station id            start station name  \\\n",
       "usertype                                                     \n",
       "Customer               345.0               W 13 St & 6 Ave   \n",
       "Subscriber             252.0  MacDougal St & Washington Sq   \n",
       "\n",
       "            start station latitude  start station longitude  end station id  \\\n",
       "usertype                                                                      \n",
       "Customer                 40.736494               -73.997044           380.0   \n",
       "Subscriber               40.732264               -73.998522           366.0   \n",
       "\n",
       "                    end station name  end station latitude  \\\n",
       "usertype                                                     \n",
       "Customer            W 4 St & 7 Ave S             40.734011   \n",
       "Subscriber  Clinton Ave & Myrtle Ave             40.693261   \n",
       "\n",
       "            end station longitude  bikeid  birth year  gender  \n",
       "usertype                                                       \n",
       "Customer               -74.002939   20943        1994       1  \n",
       "Subscriber             -73.968896   25577        1980       1  "
      ]
     },
     "execution_count": 37,
     "metadata": {},
     "output_type": "execute_result"
    }
   ],
   "source": [
    "df.groupby([\"usertype\"]).first()"
   ]
  },
  {
   "cell_type": "code",
   "execution_count": 38,
   "metadata": {},
   "outputs": [
    {
     "data": {
      "text/html": [
       "<div>\n",
       "<style scoped>\n",
       "    .dataframe tbody tr th:only-of-type {\n",
       "        vertical-align: middle;\n",
       "    }\n",
       "\n",
       "    .dataframe tbody tr th {\n",
       "        vertical-align: top;\n",
       "    }\n",
       "\n",
       "    .dataframe thead th {\n",
       "        text-align: right;\n",
       "    }\n",
       "</style>\n",
       "<table border=\"1\" class=\"dataframe\">\n",
       "  <thead>\n",
       "    <tr style=\"text-align: right;\">\n",
       "      <th></th>\n",
       "      <th>tripduration</th>\n",
       "    </tr>\n",
       "    <tr>\n",
       "      <th>usertype</th>\n",
       "      <th></th>\n",
       "    </tr>\n",
       "  </thead>\n",
       "  <tbody>\n",
       "    <tr>\n",
       "      <th>Customer</th>\n",
       "      <td>2004.922762</td>\n",
       "    </tr>\n",
       "    <tr>\n",
       "      <th>Subscriber</th>\n",
       "      <td>799.940863</td>\n",
       "    </tr>\n",
       "  </tbody>\n",
       "</table>\n",
       "</div>"
      ],
      "text/plain": [
       "            tripduration\n",
       "usertype                \n",
       "Customer     2004.922762\n",
       "Subscriber    799.940863"
      ]
     },
     "execution_count": 38,
     "metadata": {},
     "output_type": "execute_result"
    }
   ],
   "source": [
    "df.groupby([\"usertype\"])[[\"tripduration\"]].mean()"
   ]
  },
  {
   "cell_type": "code",
   "execution_count": 39,
   "metadata": {},
   "outputs": [
    {
     "data": {
      "text/html": [
       "<div>\n",
       "<style scoped>\n",
       "    .dataframe tbody tr th:only-of-type {\n",
       "        vertical-align: middle;\n",
       "    }\n",
       "\n",
       "    .dataframe tbody tr th {\n",
       "        vertical-align: top;\n",
       "    }\n",
       "\n",
       "    .dataframe thead tr th {\n",
       "        text-align: left;\n",
       "    }\n",
       "\n",
       "    .dataframe thead tr:last-of-type th {\n",
       "        text-align: right;\n",
       "    }\n",
       "</style>\n",
       "<table border=\"1\" class=\"dataframe\">\n",
       "  <thead>\n",
       "    <tr>\n",
       "      <th></th>\n",
       "      <th colspan=\"2\" halign=\"left\">tripduration</th>\n",
       "      <th>starttime</th>\n",
       "    </tr>\n",
       "    <tr>\n",
       "      <th></th>\n",
       "      <th>sum</th>\n",
       "      <th>min</th>\n",
       "      <th>first</th>\n",
       "    </tr>\n",
       "    <tr>\n",
       "      <th>usertype</th>\n",
       "      <th></th>\n",
       "      <th></th>\n",
       "      <th></th>\n",
       "    </tr>\n",
       "  </thead>\n",
       "  <tbody>\n",
       "    <tr>\n",
       "      <th>Customer</th>\n",
       "      <td>523591594</td>\n",
       "      <td>61</td>\n",
       "      <td>2018-09-01 00:00:27.3150</td>\n",
       "    </tr>\n",
       "    <tr>\n",
       "      <th>Subscriber</th>\n",
       "      <td>1293289192</td>\n",
       "      <td>61</td>\n",
       "      <td>2018-09-01 00:00:05.2690</td>\n",
       "    </tr>\n",
       "  </tbody>\n",
       "</table>\n",
       "</div>"
      ],
      "text/plain": [
       "           tripduration                     starttime\n",
       "                    sum min                     first\n",
       "usertype                                             \n",
       "Customer      523591594  61  2018-09-01 00:00:27.3150\n",
       "Subscriber   1293289192  61  2018-09-01 00:00:05.2690"
      ]
     },
     "execution_count": 39,
     "metadata": {},
     "output_type": "execute_result"
    }
   ],
   "source": [
    "df.groupby([\"usertype\"]).agg({\"tripduration\":[sum, min], \"starttime\":\"first\"})"
   ]
  },
  {
   "cell_type": "markdown",
   "metadata": {},
   "source": [
    "# 1 Map function"
   ]
  },
  {
   "cell_type": "markdown",
   "metadata": {},
   "source": [
    "##### Функция Map- для преобразовния элементов в столбце, часто используется с указанием словаря, где ключу(старое значение) соответствует новое значение после преобразования.\n",
    "    \n",
    "    Например можно перевести категориальные признаки в числовые."
   ]
  },
  {
   "cell_type": "code",
   "execution_count": 40,
   "metadata": {},
   "outputs": [
    {
     "data": {
      "text/plain": [
       "0    2\n",
       "1    2\n",
       "2    2\n",
       "3    2\n",
       "4    1\n",
       "Name: usertype, dtype: int64"
      ]
     },
     "execution_count": 40,
     "metadata": {},
     "output_type": "execute_result"
    }
   ],
   "source": [
    "usertype = {\"Customer\":1, \"Subscriber\":2}\n",
    "df[\"usertype\"].map(usertype).head()"
   ]
  },
  {
   "cell_type": "markdown",
   "metadata": {},
   "source": [
    "# 2 Apply"
   ]
  },
  {
   "cell_type": "markdown",
   "metadata": {},
   "source": [
    "##### Apply можно применить ко всему датасету, передав функцию в качестве аргумента. Например, можно вытащить все минимальные значения для каждого столбца"
   ]
  },
  {
   "cell_type": "code",
   "execution_count": 78,
   "metadata": {},
   "outputs": [
    {
     "ename": "TypeError",
     "evalue": "'<' not supported between instances of 'float' and 'str'",
     "output_type": "error",
     "traceback": [
      "\u001b[1;31m---------------------------------------------------------------------------\u001b[0m",
      "\u001b[1;31mTypeError\u001b[0m                                 Traceback (most recent call last)",
      "\u001b[1;32m<ipython-input-78-817d8d99ae99>\u001b[0m in \u001b[0;36m<module>\u001b[1;34m\u001b[0m\n\u001b[1;32m----> 1\u001b[1;33m \u001b[0mdf\u001b[0m\u001b[1;33m.\u001b[0m\u001b[0mapply\u001b[0m\u001b[1;33m(\u001b[0m\u001b[0mmin\u001b[0m\u001b[1;33m)\u001b[0m\u001b[1;33m\u001b[0m\u001b[1;33m\u001b[0m\u001b[0m\n\u001b[0m",
      "\u001b[1;32m~\\AppData\\Roaming\\Python\\Python37\\site-packages\\pandas\\core\\frame.py\u001b[0m in \u001b[0;36mapply\u001b[1;34m(self, func, axis, raw, result_type, args, **kwds)\u001b[0m\n\u001b[0;32m   6876\u001b[0m             \u001b[0mkwds\u001b[0m\u001b[1;33m=\u001b[0m\u001b[0mkwds\u001b[0m\u001b[1;33m,\u001b[0m\u001b[1;33m\u001b[0m\u001b[1;33m\u001b[0m\u001b[0m\n\u001b[0;32m   6877\u001b[0m         )\n\u001b[1;32m-> 6878\u001b[1;33m         \u001b[1;32mreturn\u001b[0m \u001b[0mop\u001b[0m\u001b[1;33m.\u001b[0m\u001b[0mget_result\u001b[0m\u001b[1;33m(\u001b[0m\u001b[1;33m)\u001b[0m\u001b[1;33m\u001b[0m\u001b[1;33m\u001b[0m\u001b[0m\n\u001b[0m\u001b[0;32m   6879\u001b[0m \u001b[1;33m\u001b[0m\u001b[0m\n\u001b[0;32m   6880\u001b[0m     \u001b[1;32mdef\u001b[0m \u001b[0mapplymap\u001b[0m\u001b[1;33m(\u001b[0m\u001b[0mself\u001b[0m\u001b[1;33m,\u001b[0m \u001b[0mfunc\u001b[0m\u001b[1;33m)\u001b[0m \u001b[1;33m->\u001b[0m \u001b[1;34m\"DataFrame\"\u001b[0m\u001b[1;33m:\u001b[0m\u001b[1;33m\u001b[0m\u001b[1;33m\u001b[0m\u001b[0m\n",
      "\u001b[1;32m~\\AppData\\Roaming\\Python\\Python37\\site-packages\\pandas\\core\\apply.py\u001b[0m in \u001b[0;36mget_result\u001b[1;34m(self)\u001b[0m\n\u001b[0;32m    184\u001b[0m             \u001b[1;32mreturn\u001b[0m \u001b[0mself\u001b[0m\u001b[1;33m.\u001b[0m\u001b[0mapply_raw\u001b[0m\u001b[1;33m(\u001b[0m\u001b[1;33m)\u001b[0m\u001b[1;33m\u001b[0m\u001b[1;33m\u001b[0m\u001b[0m\n\u001b[0;32m    185\u001b[0m \u001b[1;33m\u001b[0m\u001b[0m\n\u001b[1;32m--> 186\u001b[1;33m         \u001b[1;32mreturn\u001b[0m \u001b[0mself\u001b[0m\u001b[1;33m.\u001b[0m\u001b[0mapply_standard\u001b[0m\u001b[1;33m(\u001b[0m\u001b[1;33m)\u001b[0m\u001b[1;33m\u001b[0m\u001b[1;33m\u001b[0m\u001b[0m\n\u001b[0m\u001b[0;32m    187\u001b[0m \u001b[1;33m\u001b[0m\u001b[0m\n\u001b[0;32m    188\u001b[0m     \u001b[1;32mdef\u001b[0m \u001b[0mapply_empty_result\u001b[0m\u001b[1;33m(\u001b[0m\u001b[0mself\u001b[0m\u001b[1;33m)\u001b[0m\u001b[1;33m:\u001b[0m\u001b[1;33m\u001b[0m\u001b[1;33m\u001b[0m\u001b[0m\n",
      "\u001b[1;32m~\\AppData\\Roaming\\Python\\Python37\\site-packages\\pandas\\core\\apply.py\u001b[0m in \u001b[0;36mapply_standard\u001b[1;34m(self)\u001b[0m\n\u001b[0;32m    294\u001b[0m             \u001b[1;32mtry\u001b[0m\u001b[1;33m:\u001b[0m\u001b[1;33m\u001b[0m\u001b[1;33m\u001b[0m\u001b[0m\n\u001b[0;32m    295\u001b[0m                 result = libreduction.compute_reduction(\n\u001b[1;32m--> 296\u001b[1;33m                     \u001b[0mvalues\u001b[0m\u001b[1;33m,\u001b[0m \u001b[0mself\u001b[0m\u001b[1;33m.\u001b[0m\u001b[0mf\u001b[0m\u001b[1;33m,\u001b[0m \u001b[0maxis\u001b[0m\u001b[1;33m=\u001b[0m\u001b[0mself\u001b[0m\u001b[1;33m.\u001b[0m\u001b[0maxis\u001b[0m\u001b[1;33m,\u001b[0m \u001b[0mdummy\u001b[0m\u001b[1;33m=\u001b[0m\u001b[0mdummy\u001b[0m\u001b[1;33m,\u001b[0m \u001b[0mlabels\u001b[0m\u001b[1;33m=\u001b[0m\u001b[0mlabels\u001b[0m\u001b[1;33m\u001b[0m\u001b[1;33m\u001b[0m\u001b[0m\n\u001b[0m\u001b[0;32m    297\u001b[0m                 )\n\u001b[0;32m    298\u001b[0m             \u001b[1;32mexcept\u001b[0m \u001b[0mValueError\u001b[0m \u001b[1;32mas\u001b[0m \u001b[0merr\u001b[0m\u001b[1;33m:\u001b[0m\u001b[1;33m\u001b[0m\u001b[1;33m\u001b[0m\u001b[0m\n",
      "\u001b[1;32mpandas\\_libs\\reduction.pyx\u001b[0m in \u001b[0;36mpandas._libs.reduction.compute_reduction\u001b[1;34m()\u001b[0m\n",
      "\u001b[1;32mpandas\\_libs\\reduction.pyx\u001b[0m in \u001b[0;36mpandas._libs.reduction.Reducer.get_result\u001b[1;34m()\u001b[0m\n",
      "\u001b[1;31mTypeError\u001b[0m: '<' not supported between instances of 'float' and 'str'"
     ]
    }
   ],
   "source": [
    "df.apply(min)"
   ]
  },
  {
   "cell_type": "markdown",
   "metadata": {},
   "source": [
    "##### Так же apply можно прменять к отдельному столбцу с помощью ламбда функции"
   ]
  },
  {
   "cell_type": "code",
   "execution_count": 42,
   "metadata": {},
   "outputs": [
    {
     "data": {
      "text/plain": [
       "0     27.250000\n",
       "1      2.200000\n",
       "2     55.616667\n",
       "3      7.266667\n",
       "4    140.950000\n",
       "Name: tripduration, dtype: float64"
      ]
     },
     "execution_count": 42,
     "metadata": {},
     "output_type": "execute_result"
    }
   ],
   "source": [
    "df[\"tripduration\"].apply(lambda x: x/60).head()"
   ]
  },
  {
   "cell_type": "markdown",
   "metadata": {},
   "source": [
    "##### Apply работает со строками с указанием axis=1"
   ]
  },
  {
   "cell_type": "code",
   "execution_count": 54,
   "metadata": {},
   "outputs": [
    {
     "data": {
      "text/plain": [
       "0    27.250000\n",
       "1     2.200000\n",
       "2    55.616667\n",
       "dtype: float64"
      ]
     },
     "execution_count": 54,
     "metadata": {},
     "output_type": "execute_result"
    }
   ],
   "source": [
    "df.apply(lambda x: x[\"tripduration\"]/60, axis=1).head(3)"
   ]
  },
  {
   "cell_type": "markdown",
   "metadata": {},
   "source": [
    "##### Найти среднюю длину поездок в минутах(столбец tripduration) c точностью до 2 знака"
   ]
  },
  {
   "cell_type": "code",
   "execution_count": 113,
   "metadata": {},
   "outputs": [
    {
     "data": {
      "text/plain": [
       "16.125248648656324"
      ]
     },
     "execution_count": 113,
     "metadata": {},
     "output_type": "execute_result"
    }
   ],
   "source": [
    "df.apply(lambda x: x[\"tripduration\"]/60, axis=1).mean()"
   ]
  },
  {
   "cell_type": "markdown",
   "metadata": {},
   "source": [
    "##### Какой самый используемый байк(bikeid) в городе по количеству поездок?"
   ]
  },
  {
   "cell_type": "code",
   "execution_count": 116,
   "metadata": {},
   "outputs": [
    {
     "data": {
      "text/plain": [
       "33875    559\n",
       "33772    549\n",
       "34357    549\n",
       "33868    533\n",
       "33878    532\n",
       "Name: bikeid, dtype: int64"
      ]
     },
     "execution_count": 116,
     "metadata": {},
     "output_type": "execute_result"
    }
   ],
   "source": [
    "df.bikeid.value_counts().head()"
   ]
  },
  {
   "cell_type": "markdown",
   "metadata": {},
   "source": [
    "##### Найдите идентификатор велосипеда (bikeid), у которого в среднем продолжительность поездок выше, чем у всех остальных"
   ]
  },
  {
   "cell_type": "code",
   "execution_count": 158,
   "metadata": {},
   "outputs": [
    {
     "data": {
      "text/plain": [
       "bikeid\n",
       "17548    488022.400000\n",
       "28520    417717.000000\n",
       "17431    394605.833333\n",
       "19083    335620.142857\n",
       "18041    103932.100000\n",
       "             ...      \n",
       "22368       224.111111\n",
       "34896       217.200000\n",
       "14761       182.666667\n",
       "25612        72.000000\n",
       "32379        64.000000\n",
       "Name: tripduration, Length: 10892, dtype: float64"
      ]
     },
     "execution_count": 158,
     "metadata": {},
     "output_type": "execute_result"
    }
   ],
   "source": [
    "df.groupby(\"bikeid\").tripduration.mean().sort_values(ascending=False)"
   ]
  },
  {
   "cell_type": "markdown",
   "metadata": {},
   "source": [
    "##### Сколько строк, в которых отсутствуют данные о start station id?"
   ]
  },
  {
   "cell_type": "code",
   "execution_count": 124,
   "metadata": {},
   "outputs": [
    {
     "data": {
      "text/plain": [
       "716"
      ]
     },
     "execution_count": 124,
     "metadata": {},
     "output_type": "execute_result"
    }
   ],
   "source": [
    "df[\"start station id\"].isnull().sum()"
   ]
  },
  {
   "cell_type": "markdown",
   "metadata": {},
   "source": [
    "##### Сколько поездок начались и закончились в той же самой станции?"
   ]
  },
  {
   "cell_type": "code",
   "execution_count": 169,
   "metadata": {},
   "outputs": [
    {
     "data": {
      "text/html": [
       "<div>\n",
       "<style scoped>\n",
       "    .dataframe tbody tr th:only-of-type {\n",
       "        vertical-align: middle;\n",
       "    }\n",
       "\n",
       "    .dataframe tbody tr th {\n",
       "        vertical-align: top;\n",
       "    }\n",
       "\n",
       "    .dataframe thead th {\n",
       "        text-align: right;\n",
       "    }\n",
       "</style>\n",
       "<table border=\"1\" class=\"dataframe\">\n",
       "  <thead>\n",
       "    <tr style=\"text-align: right;\">\n",
       "      <th></th>\n",
       "      <th>tripduration</th>\n",
       "      <th>starttime</th>\n",
       "      <th>stoptime</th>\n",
       "      <th>start station id</th>\n",
       "      <th>start station name</th>\n",
       "      <th>start station latitude</th>\n",
       "      <th>start station longitude</th>\n",
       "      <th>end station id</th>\n",
       "      <th>end station name</th>\n",
       "      <th>end station latitude</th>\n",
       "      <th>end station longitude</th>\n",
       "      <th>bikeid</th>\n",
       "      <th>usertype</th>\n",
       "      <th>birth year</th>\n",
       "      <th>gender</th>\n",
       "    </tr>\n",
       "  </thead>\n",
       "  <tbody>\n",
       "    <tr>\n",
       "      <th>24</th>\n",
       "      <td>622</td>\n",
       "      <td>2018-09-01 00:02:30.1860</td>\n",
       "      <td>2018-09-01 00:12:52.5180</td>\n",
       "      <td>3561.0</td>\n",
       "      <td>37 Ave &amp; 35 St</td>\n",
       "      <td>40.753111</td>\n",
       "      <td>-73.927992</td>\n",
       "      <td>3561.0</td>\n",
       "      <td>37 Ave &amp; 35 St</td>\n",
       "      <td>40.753111</td>\n",
       "      <td>-73.927992</td>\n",
       "      <td>27107</td>\n",
       "      <td>Subscriber</td>\n",
       "      <td>1996</td>\n",
       "      <td>1</td>\n",
       "    </tr>\n",
       "    <tr>\n",
       "      <th>51</th>\n",
       "      <td>549</td>\n",
       "      <td>2018-09-01 00:04:04.6480</td>\n",
       "      <td>2018-09-01 00:13:14.3960</td>\n",
       "      <td>433.0</td>\n",
       "      <td>E 13 St &amp; Avenue A</td>\n",
       "      <td>40.729554</td>\n",
       "      <td>-73.980572</td>\n",
       "      <td>433.0</td>\n",
       "      <td>E 13 St &amp; Avenue A</td>\n",
       "      <td>40.729554</td>\n",
       "      <td>-73.980572</td>\n",
       "      <td>34044</td>\n",
       "      <td>Subscriber</td>\n",
       "      <td>1985</td>\n",
       "      <td>2</td>\n",
       "    </tr>\n",
       "    <tr>\n",
       "      <th>99</th>\n",
       "      <td>1665</td>\n",
       "      <td>2018-09-01 00:07:07.8150</td>\n",
       "      <td>2018-09-01 00:34:53.6900</td>\n",
       "      <td>3608.0</td>\n",
       "      <td>5 St &amp; 51 Ave</td>\n",
       "      <td>40.742374</td>\n",
       "      <td>-73.956600</td>\n",
       "      <td>3608.0</td>\n",
       "      <td>5 St &amp; 51 Ave</td>\n",
       "      <td>40.742374</td>\n",
       "      <td>-73.956600</td>\n",
       "      <td>34670</td>\n",
       "      <td>Subscriber</td>\n",
       "      <td>1991</td>\n",
       "      <td>1</td>\n",
       "    </tr>\n",
       "    <tr>\n",
       "      <th>129</th>\n",
       "      <td>1849</td>\n",
       "      <td>2018-09-01 00:08:36.9170</td>\n",
       "      <td>2018-09-01 00:39:26.1680</td>\n",
       "      <td>217.0</td>\n",
       "      <td>Old Fulton St</td>\n",
       "      <td>40.702772</td>\n",
       "      <td>-73.993836</td>\n",
       "      <td>217.0</td>\n",
       "      <td>Old Fulton St</td>\n",
       "      <td>40.702772</td>\n",
       "      <td>-73.993836</td>\n",
       "      <td>25080</td>\n",
       "      <td>Customer</td>\n",
       "      <td>2000</td>\n",
       "      <td>1</td>\n",
       "    </tr>\n",
       "    <tr>\n",
       "      <th>133</th>\n",
       "      <td>1307</td>\n",
       "      <td>2018-09-01 00:08:54.5350</td>\n",
       "      <td>2018-09-01 00:30:42.1350</td>\n",
       "      <td>3532.0</td>\n",
       "      <td>Ditmars Blvd &amp; 19 St</td>\n",
       "      <td>40.781450</td>\n",
       "      <td>-73.918330</td>\n",
       "      <td>3532.0</td>\n",
       "      <td>Ditmars Blvd &amp; 19 St</td>\n",
       "      <td>40.781450</td>\n",
       "      <td>-73.918330</td>\n",
       "      <td>32632</td>\n",
       "      <td>Customer</td>\n",
       "      <td>1987</td>\n",
       "      <td>1</td>\n",
       "    </tr>\n",
       "    <tr>\n",
       "      <th>...</th>\n",
       "      <td>...</td>\n",
       "      <td>...</td>\n",
       "      <td>...</td>\n",
       "      <td>...</td>\n",
       "      <td>...</td>\n",
       "      <td>...</td>\n",
       "      <td>...</td>\n",
       "      <td>...</td>\n",
       "      <td>...</td>\n",
       "      <td>...</td>\n",
       "      <td>...</td>\n",
       "      <td>...</td>\n",
       "      <td>...</td>\n",
       "      <td>...</td>\n",
       "      <td>...</td>\n",
       "    </tr>\n",
       "    <tr>\n",
       "      <th>1877711</th>\n",
       "      <td>6740</td>\n",
       "      <td>2018-09-30 23:46:20.6540</td>\n",
       "      <td>2018-10-01 01:38:41.0820</td>\n",
       "      <td>3622.0</td>\n",
       "      <td>E 128 St &amp; Madison Ave</td>\n",
       "      <td>40.807560</td>\n",
       "      <td>-73.939182</td>\n",
       "      <td>3622.0</td>\n",
       "      <td>E 128 St &amp; Madison Ave</td>\n",
       "      <td>40.807560</td>\n",
       "      <td>-73.939182</td>\n",
       "      <td>19581</td>\n",
       "      <td>Customer</td>\n",
       "      <td>1994</td>\n",
       "      <td>1</td>\n",
       "    </tr>\n",
       "    <tr>\n",
       "      <th>1877822</th>\n",
       "      <td>66</td>\n",
       "      <td>2018-09-30 23:54:53.4550</td>\n",
       "      <td>2018-09-30 23:55:59.9090</td>\n",
       "      <td>3093.0</td>\n",
       "      <td>N 6 St &amp; Bedford Ave</td>\n",
       "      <td>40.717452</td>\n",
       "      <td>-73.958509</td>\n",
       "      <td>3093.0</td>\n",
       "      <td>N 6 St &amp; Bedford Ave</td>\n",
       "      <td>40.717452</td>\n",
       "      <td>-73.958509</td>\n",
       "      <td>21693</td>\n",
       "      <td>Customer</td>\n",
       "      <td>1985</td>\n",
       "      <td>1</td>\n",
       "    </tr>\n",
       "    <tr>\n",
       "      <th>1877837</th>\n",
       "      <td>211</td>\n",
       "      <td>2018-09-30 23:56:22.1400</td>\n",
       "      <td>2018-09-30 23:59:53.9200</td>\n",
       "      <td>504.0</td>\n",
       "      <td>1 Ave &amp; E 16 St</td>\n",
       "      <td>40.732219</td>\n",
       "      <td>-73.981656</td>\n",
       "      <td>504.0</td>\n",
       "      <td>1 Ave &amp; E 16 St</td>\n",
       "      <td>40.732219</td>\n",
       "      <td>-73.981656</td>\n",
       "      <td>29024</td>\n",
       "      <td>Subscriber</td>\n",
       "      <td>1981</td>\n",
       "      <td>1</td>\n",
       "    </tr>\n",
       "    <tr>\n",
       "      <th>1877876</th>\n",
       "      <td>2326</td>\n",
       "      <td>2018-09-29 10:51:16.3010</td>\n",
       "      <td>2018-09-29 11:30:02.3410</td>\n",
       "      <td>3601.0</td>\n",
       "      <td>Sterling St &amp; Bedford Ave</td>\n",
       "      <td>40.662706</td>\n",
       "      <td>-73.956912</td>\n",
       "      <td>3601.0</td>\n",
       "      <td>Sterling St &amp; Bedford Ave</td>\n",
       "      <td>40.662706</td>\n",
       "      <td>-73.956912</td>\n",
       "      <td>32976</td>\n",
       "      <td>Subscriber</td>\n",
       "      <td>1986</td>\n",
       "      <td>1</td>\n",
       "    </tr>\n",
       "    <tr>\n",
       "      <th>1877878</th>\n",
       "      <td>228</td>\n",
       "      <td>2018-09-29 19:29:49.6230</td>\n",
       "      <td>2018-09-29 19:33:37.6590</td>\n",
       "      <td>3601.0</td>\n",
       "      <td>Sterling St &amp; Bedford Ave</td>\n",
       "      <td>40.662706</td>\n",
       "      <td>-73.956912</td>\n",
       "      <td>3601.0</td>\n",
       "      <td>Sterling St &amp; Bedford Ave</td>\n",
       "      <td>40.662706</td>\n",
       "      <td>-73.956912</td>\n",
       "      <td>28646</td>\n",
       "      <td>Subscriber</td>\n",
       "      <td>2002</td>\n",
       "      <td>1</td>\n",
       "    </tr>\n",
       "  </tbody>\n",
       "</table>\n",
       "<p>41364 rows × 15 columns</p>\n",
       "</div>"
      ],
      "text/plain": [
       "         tripduration                 starttime                  stoptime  \\\n",
       "24                622  2018-09-01 00:02:30.1860  2018-09-01 00:12:52.5180   \n",
       "51                549  2018-09-01 00:04:04.6480  2018-09-01 00:13:14.3960   \n",
       "99               1665  2018-09-01 00:07:07.8150  2018-09-01 00:34:53.6900   \n",
       "129              1849  2018-09-01 00:08:36.9170  2018-09-01 00:39:26.1680   \n",
       "133              1307  2018-09-01 00:08:54.5350  2018-09-01 00:30:42.1350   \n",
       "...               ...                       ...                       ...   \n",
       "1877711          6740  2018-09-30 23:46:20.6540  2018-10-01 01:38:41.0820   \n",
       "1877822            66  2018-09-30 23:54:53.4550  2018-09-30 23:55:59.9090   \n",
       "1877837           211  2018-09-30 23:56:22.1400  2018-09-30 23:59:53.9200   \n",
       "1877876          2326  2018-09-29 10:51:16.3010  2018-09-29 11:30:02.3410   \n",
       "1877878           228  2018-09-29 19:29:49.6230  2018-09-29 19:33:37.6590   \n",
       "\n",
       "         start station id         start station name  start station latitude  \\\n",
       "24                 3561.0             37 Ave & 35 St               40.753111   \n",
       "51                  433.0         E 13 St & Avenue A               40.729554   \n",
       "99                 3608.0              5 St & 51 Ave               40.742374   \n",
       "129                 217.0              Old Fulton St               40.702772   \n",
       "133                3532.0       Ditmars Blvd & 19 St               40.781450   \n",
       "...                   ...                        ...                     ...   \n",
       "1877711            3622.0     E 128 St & Madison Ave               40.807560   \n",
       "1877822            3093.0       N 6 St & Bedford Ave               40.717452   \n",
       "1877837             504.0            1 Ave & E 16 St               40.732219   \n",
       "1877876            3601.0  Sterling St & Bedford Ave               40.662706   \n",
       "1877878            3601.0  Sterling St & Bedford Ave               40.662706   \n",
       "\n",
       "         start station longitude  end station id           end station name  \\\n",
       "24                    -73.927992          3561.0             37 Ave & 35 St   \n",
       "51                    -73.980572           433.0         E 13 St & Avenue A   \n",
       "99                    -73.956600          3608.0              5 St & 51 Ave   \n",
       "129                   -73.993836           217.0              Old Fulton St   \n",
       "133                   -73.918330          3532.0       Ditmars Blvd & 19 St   \n",
       "...                          ...             ...                        ...   \n",
       "1877711               -73.939182          3622.0     E 128 St & Madison Ave   \n",
       "1877822               -73.958509          3093.0       N 6 St & Bedford Ave   \n",
       "1877837               -73.981656           504.0            1 Ave & E 16 St   \n",
       "1877876               -73.956912          3601.0  Sterling St & Bedford Ave   \n",
       "1877878               -73.956912          3601.0  Sterling St & Bedford Ave   \n",
       "\n",
       "         end station latitude  end station longitude  bikeid    usertype  \\\n",
       "24                  40.753111             -73.927992   27107  Subscriber   \n",
       "51                  40.729554             -73.980572   34044  Subscriber   \n",
       "99                  40.742374             -73.956600   34670  Subscriber   \n",
       "129                 40.702772             -73.993836   25080    Customer   \n",
       "133                 40.781450             -73.918330   32632    Customer   \n",
       "...                       ...                    ...     ...         ...   \n",
       "1877711             40.807560             -73.939182   19581    Customer   \n",
       "1877822             40.717452             -73.958509   21693    Customer   \n",
       "1877837             40.732219             -73.981656   29024  Subscriber   \n",
       "1877876             40.662706             -73.956912   32976  Subscriber   \n",
       "1877878             40.662706             -73.956912   28646  Subscriber   \n",
       "\n",
       "         birth year  gender  \n",
       "24             1996       1  \n",
       "51             1985       2  \n",
       "99             1991       1  \n",
       "129            2000       1  \n",
       "133            1987       1  \n",
       "...             ...     ...  \n",
       "1877711        1994       1  \n",
       "1877822        1985       1  \n",
       "1877837        1981       1  \n",
       "1877876        1986       1  \n",
       "1877878        2002       1  \n",
       "\n",
       "[41364 rows x 15 columns]"
      ]
     },
     "execution_count": 169,
     "metadata": {},
     "output_type": "execute_result"
    }
   ],
   "source": [
    "df.loc[(df[\"start station id\"])==(df[\"end station id\"])]"
   ]
  },
  {
   "cell_type": "code",
   "execution_count": null,
   "metadata": {},
   "outputs": [],
   "source": []
  }
 ],
 "metadata": {
  "kernelspec": {
   "display_name": "Python 3",
   "language": "python",
   "name": "python3"
  },
  "language_info": {
   "codemirror_mode": {
    "name": "ipython",
    "version": 3
   },
   "file_extension": ".py",
   "mimetype": "text/x-python",
   "name": "python",
   "nbconvert_exporter": "python",
   "pygments_lexer": "ipython3",
   "version": "3.7.6"
  }
 },
 "nbformat": 4,
 "nbformat_minor": 4
}
